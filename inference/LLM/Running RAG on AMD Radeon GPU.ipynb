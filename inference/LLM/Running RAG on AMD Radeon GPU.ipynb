{
 "cells": [
  {
   "cell_type": "markdown",
   "id": "9e91244a-3b94-471a-a5de-fc8d931df16a",
   "metadata": {},
   "source": [
    "# Running RAG on AMD Radeon GPU"
   ]
  },
  {
   "cell_type": "markdown",
   "id": "0993ed12-52c2-4cd7-a3bb-3f1988c80f7c",
   "metadata": {},
   "source": [
    "`Date`: 2025/1/15 | `Author`: Alex He\n",
    "\n",
    "`Tag`: RAG, ROCm, LlamaIndex, Ollama\n",
    "\n",
    "`Category`: AI, Inference"
   ]
  },
  {
   "cell_type": "markdown",
   "id": "0fa90a7b-a662-4e20-adcb-b233d1afc709",
   "metadata": {},
   "source": [
    "AMD Radeon GPUs are officially supported by [ROCm](https://rocm.docs.amd.com/projects/install-on-linux/en/latest/), ensuring compatibility with industry-standard software frameworks. This Jupyter notebook leverages [Ollama](https://ollama.com/) and [Llamaindex]((https://docs.llamaindex.ai/en/stable/)), powered by ROCm, to build a Retrieval-Augmented Generation (RAG) application. Llamaindex facilitates the creation of a pipeline from reading PDFs to indexing datasets and building a query engine, while Ollama provides the backend service for Large Language Model (LLM) inference."
   ]
  },
  {
   "cell_type": "markdown",
   "id": "0a3ce35f-a36a-405d-ba73-7417d6a4dab7",
   "metadata": {},
   "source": [
    "## Install ROCm\n",
    "\n",
    "Please install ROCm for Radeon GPU by refering https://rocm.docs.amd.com/projects/radeon/en/latest/docs/install/native_linux/install-radeon.html at first."
   ]
  },
  {
   "cell_type": "markdown",
   "id": "262a34c3-7a9c-4f84-b280-91f5a6e71b2f",
   "metadata": {},
   "source": [
    "## Install Ollama"
   ]
  },
  {
   "cell_type": "markdown",
   "id": "0f748c42-7e8f-4a9a-b778-33b33e14bc9c",
   "metadata": {},
   "source": [
    "Ollama offers seamless support for AMD ROCm GPUs \"out of the box.\" We use it as the LLM inference provider in this jupyter notebook. Just one command to install it onto linux with the latest version. "
   ]
  },
  {
   "cell_type": "raw",
   "id": "0de04550-bb8e-4508-bbf4-2ed2494cb2f3",
   "metadata": {},
   "source": [
    "!curl -fsSL https://ollama.com/install.sh | sh"
   ]
  },
  {
   "cell_type": "markdown",
   "id": "753e9454-54a8-45f4-95dd-94f5206c6199",
   "metadata": {},
   "source": [
    "The ollama service will auto start after the installation and could be launched by hand or checked as bellow."
   ]
  },
  {
   "cell_type": "code",
   "execution_count": 1,
   "id": "a3580a83-1e19-4f7e-b19e-8c58e6f899c9",
   "metadata": {
    "scrolled": true
   },
   "outputs": [
    {
     "name": "stdout",
     "output_type": "stream",
     "text": [
      "Error: listen tcp 127.0.0.1:11434: bind: address already in use\n"
     ]
    }
   ],
   "source": [
    "!ollama serve"
   ]
  },
  {
   "cell_type": "markdown",
   "id": "752c18f8-c078-49b1-ab7d-d301e9e9a67d",
   "metadata": {},
   "source": [
    "Then pull llama3.1(8b) as the RAG LLM and nomic-embed-text as the embedding model. Or seraching another one the LLM from https://ollama.com/search as you need."
   ]
  },
  {
   "cell_type": "code",
   "execution_count": 2,
   "id": "18ae8c42-1503-4048-a674-beeac5ad1b52",
   "metadata": {},
   "outputs": [
    {
     "name": "stdout",
     "output_type": "stream",
     "text": [
      "\u001b[?25lpulling manifest ⠋ \u001b[?25h\u001b[?25l\u001b[2K\u001b[1Gpulling manifest ⠹ \u001b[?25h\u001b[?25l\u001b[2K\u001b[1Gpulling manifest ⠹ \u001b[?25h\u001b[?25l\u001b[2K\u001b[1Gpulling manifest ⠸ \u001b[?25h\u001b[?25l\u001b[2K\u001b[1Gpulling manifest ⠼ \u001b[?25h\u001b[?25l\u001b[2K\u001b[1Gpulling manifest ⠴ \u001b[?25h\u001b[?25l\u001b[2K\u001b[1Gpulling manifest ⠧ \u001b[?25h\u001b[?25l\u001b[2K\u001b[1Gpulling manifest ⠧ \u001b[?25h\u001b[?25l\u001b[2K\u001b[1Gpulling manifest ⠇ \u001b[?25h\u001b[?25l\u001b[2K\u001b[1Gpulling manifest ⠏ \u001b[?25h\u001b[?25l\u001b[2K\u001b[1Gpulling manifest ⠋ \u001b[?25h\u001b[?25l\u001b[2K\u001b[1Gpulling manifest ⠙ \u001b[?25h\u001b[?25l\u001b[2K\u001b[1Gpulling manifest ⠹ \u001b[?25h\u001b[?25l\u001b[2K\u001b[1Gpulling manifest ⠼ \u001b[?25h\u001b[?25l\u001b[2K\u001b[1Gpulling manifest ⠼ \u001b[?25h\u001b[?25l\u001b[2K\u001b[1Gpulling manifest ⠴ \u001b[?25h\u001b[?25l\u001b[2K\u001b[1Gpulling manifest ⠦ \u001b[?25h\u001b[?25l\u001b[2K\u001b[1Gpulling manifest ⠧ \u001b[?25h\u001b[?25l\u001b[2K\u001b[1Gpulling manifest ⠏ \u001b[?25h\u001b[?25l\u001b[2K\u001b[1Gpulling manifest ⠋ \u001b[?25h\u001b[?25l\u001b[2K\u001b[1Gpulling manifest ⠋ \u001b[?25h\u001b[?25l\u001b[2K\u001b[1Gpulling manifest ⠙ \u001b[?25h\u001b[?25l\u001b[2K\u001b[1Gpulling manifest \n",
      "pulling 970aa74c0a90... 100% ▕████████████████▏ 274 MB                         \n",
      "pulling c71d239df917... 100% ▕████████████████▏  11 KB                         \n",
      "pulling ce4a164fc046... 100% ▕████████████████▏   17 B                         \n",
      "pulling 31df23ea7daa... 100% ▕████████████████▏  420 B                         \n",
      "verifying sha256 digest \n",
      "writing manifest \n",
      "success \u001b[?25h\n"
     ]
    }
   ],
   "source": [
    "!ollama pull nomic-embed-text"
   ]
  },
  {
   "cell_type": "raw",
   "id": "7fac3e9c-d594-42c2-9aed-313fd2b5f9ca",
   "metadata": {
    "scrolled": true
   },
   "source": [
    "!ollama pull llama3.1:8b"
   ]
  },
  {
   "cell_type": "code",
   "execution_count": 3,
   "id": "5793f235-a868-4e75-a89c-38b3908ac565",
   "metadata": {},
   "outputs": [
    {
     "name": "stdout",
     "output_type": "stream",
     "text": [
      "NAME           ID              SIZE      MODIFIED     \n",
      "llama3.1:8b    42182419e950    4.7 GB    2 months ago    \n"
     ]
    }
   ],
   "source": [
    "!ollama list llama3.1"
   ]
  },
  {
   "cell_type": "markdown",
   "id": "22bbcae7-cd5d-4f15-9498-d50aa31c5558",
   "metadata": {},
   "source": [
    "Please refer to https://github.com/ollama/ollama to get more info about the usage."
   ]
  },
  {
   "cell_type": "markdown",
   "id": "63ffe628-6f6b-4aa1-a2cf-a7381d66c176",
   "metadata": {},
   "source": [
    "## Install Torch [optional]\n",
    "\n",
    "For this example, PyTorch is optional and we just use it to query GPU for checking if it is work."
   ]
  },
  {
   "cell_type": "code",
   "execution_count": 4,
   "id": "0184d5c1-ada2-46e0-87e6-2438c186fd85",
   "metadata": {
    "scrolled": true
   },
   "outputs": [
    {
     "name": "stdout",
     "output_type": "stream",
     "text": [
      "Looking in indexes: https://download.pytorch.org/whl/rocm6.2\n",
      "Requirement already satisfied: torch in /home/amd/anaconda3/lib/python3.12/site-packages (2.5.1+rocm6.2)\n",
      "Requirement already satisfied: torchvision in /home/amd/anaconda3/lib/python3.12/site-packages (0.20.1+rocm6.2)\n",
      "Requirement already satisfied: torchaudio in /home/amd/anaconda3/lib/python3.12/site-packages (2.5.1+rocm6.2)\n",
      "Requirement already satisfied: filelock in /home/amd/anaconda3/lib/python3.12/site-packages (from torch) (3.13.1)\n",
      "Requirement already satisfied: typing-extensions>=4.8.0 in /home/amd/anaconda3/lib/python3.12/site-packages (from torch) (4.12.2)\n",
      "Requirement already satisfied: networkx in /home/amd/anaconda3/lib/python3.12/site-packages (from torch) (3.3)\n",
      "Requirement already satisfied: jinja2 in /home/amd/anaconda3/lib/python3.12/site-packages (from torch) (3.1.4)\n",
      "Requirement already satisfied: fsspec in /home/amd/anaconda3/lib/python3.12/site-packages (from torch) (2024.6.1)\n",
      "Requirement already satisfied: pytorch-triton-rocm==3.1.0 in /home/amd/anaconda3/lib/python3.12/site-packages (from torch) (3.1.0)\n",
      "Requirement already satisfied: setuptools in /home/amd/anaconda3/lib/python3.12/site-packages (from torch) (75.1.0)\n",
      "Requirement already satisfied: sympy==1.13.1 in /home/amd/anaconda3/lib/python3.12/site-packages (from torch) (1.13.1)\n",
      "Requirement already satisfied: mpmath<1.4,>=1.1.0 in /home/amd/anaconda3/lib/python3.12/site-packages (from sympy==1.13.1->torch) (1.3.0)\n",
      "Requirement already satisfied: numpy in /home/amd/anaconda3/lib/python3.12/site-packages (from torchvision) (1.26.4)\n",
      "Requirement already satisfied: pillow!=8.3.*,>=5.3.0 in /home/amd/anaconda3/lib/python3.12/site-packages (from torchvision) (10.4.0)\n",
      "Requirement already satisfied: MarkupSafe>=2.0 in /home/amd/anaconda3/lib/python3.12/site-packages (from jinja2->torch) (2.1.3)\n"
     ]
    }
   ],
   "source": [
    "!pip3 install torch torchvision torchaudio --index-url https://download.pytorch.org/whl/rocm6.2"
   ]
  },
  {
   "cell_type": "markdown",
   "id": "cbf44525-ab00-4b38-929b-aceaf02d38fb",
   "metadata": {},
   "source": [
    "Check the packages of torch/rocm packages"
   ]
  },
  {
   "cell_type": "code",
   "execution_count": 5,
   "id": "38fec6ac-1bdd-4bd6-90c8-371eede9e2ec",
   "metadata": {},
   "outputs": [
    {
     "name": "stdout",
     "output_type": "stream",
     "text": [
      "pytorch-triton-rocm                      3.1.0\n",
      "torch                                    2.5.1+rocm6.2\n",
      "torchaudio                               2.5.1+rocm6.2\n",
      "torchvision                              0.20.1+rocm6.2\n"
     ]
    }
   ],
   "source": [
    "!pip list | grep torch"
   ]
  },
  {
   "cell_type": "code",
   "execution_count": 6,
   "id": "fc3616ed-475d-49c5-b0ad-db8200e77491",
   "metadata": {},
   "outputs": [],
   "source": [
    "import os\n",
    "import torch"
   ]
  },
  {
   "cell_type": "code",
   "execution_count": 7,
   "id": "4e28c16f-2653-4d67-ac89-e72c210a83de",
   "metadata": {
    "scrolled": true
   },
   "outputs": [
    {
     "name": "stdout",
     "output_type": "stream",
     "text": [
      "Using GPU: AMD Radeon PRO W7900\n",
      "GPU properties: _CudaDeviceProperties(name='AMD Radeon PRO W7900', major=11, minor=0, gcnArchName='gfx1100', total_memory=46064MB, multi_processor_count=48, uuid=36373564-3232-3936-3661-373939393363, L2_cache_size=6MB)\n"
     ]
    }
   ],
   "source": [
    "# Query GPU\n",
    "if torch.cuda.is_available():\n",
    "    device = torch.device(\"cuda\")          # a CUDA device object\n",
    "    print('Using GPU:', torch.cuda.get_device_name(0))\n",
    "    print('GPU properties:', torch.cuda.get_device_properties(0))\n",
    "else:\n",
    "    device = torch.device(\"cpu\")\n",
    "    print('Using CPU')"
   ]
  },
  {
   "cell_type": "markdown",
   "id": "b3f7191a-fdaa-4b83-86b1-75d1811a76a8",
   "metadata": {},
   "source": [
    "## Build RAG with LLamaIndex & Ollama"
   ]
  },
  {
   "cell_type": "markdown",
   "id": "07e4c26f-2f0c-4796-9cb1-51b52ce3cd6c",
   "metadata": {},
   "source": [
    "Conver the the cell below to `Code` to install the llama-index packages at the first time. And then change it to `Raw` or `Markdown` to saving time."
   ]
  },
  {
   "cell_type": "code",
   "execution_count": 8,
   "id": "44ec9028-1516-4355-8c79-70967753e22f",
   "metadata": {},
   "outputs": [
    {
     "name": "stdout",
     "output_type": "stream",
     "text": [
      "Requirement already satisfied: llama-index in /home/amd/anaconda3/lib/python3.12/site-packages (0.12.10)\n",
      "Requirement already satisfied: llama-index-agent-openai<0.5.0,>=0.4.0 in /home/amd/anaconda3/lib/python3.12/site-packages (from llama-index) (0.4.1)\n",
      "Requirement already satisfied: llama-index-cli<0.5.0,>=0.4.0 in /home/amd/anaconda3/lib/python3.12/site-packages (from llama-index) (0.4.0)\n",
      "Requirement already satisfied: llama-index-core<0.13.0,>=0.12.10 in /home/amd/anaconda3/lib/python3.12/site-packages (from llama-index) (0.12.10.post1)\n",
      "Requirement already satisfied: llama-index-embeddings-openai<0.4.0,>=0.3.0 in /home/amd/anaconda3/lib/python3.12/site-packages (from llama-index) (0.3.1)\n",
      "Requirement already satisfied: llama-index-indices-managed-llama-cloud>=0.4.0 in /home/amd/anaconda3/lib/python3.12/site-packages (from llama-index) (0.6.3)\n",
      "Requirement already satisfied: llama-index-llms-openai<0.4.0,>=0.3.0 in /home/amd/anaconda3/lib/python3.12/site-packages (from llama-index) (0.3.13)\n",
      "Requirement already satisfied: llama-index-multi-modal-llms-openai<0.5.0,>=0.4.0 in /home/amd/anaconda3/lib/python3.12/site-packages (from llama-index) (0.4.2)\n",
      "Requirement already satisfied: llama-index-program-openai<0.4.0,>=0.3.0 in /home/amd/anaconda3/lib/python3.12/site-packages (from llama-index) (0.3.1)\n",
      "Requirement already satisfied: llama-index-question-gen-openai<0.4.0,>=0.3.0 in /home/amd/anaconda3/lib/python3.12/site-packages (from llama-index) (0.3.0)\n",
      "Requirement already satisfied: llama-index-readers-file<0.5.0,>=0.4.0 in /home/amd/anaconda3/lib/python3.12/site-packages (from llama-index) (0.4.3)\n",
      "Requirement already satisfied: llama-index-readers-llama-parse>=0.4.0 in /home/amd/anaconda3/lib/python3.12/site-packages (from llama-index) (0.4.0)\n",
      "Requirement already satisfied: nltk>3.8.1 in /home/amd/anaconda3/lib/python3.12/site-packages (from llama-index) (3.9.1)\n",
      "Requirement already satisfied: openai>=1.14.0 in /home/amd/anaconda3/lib/python3.12/site-packages (from llama-index-agent-openai<0.5.0,>=0.4.0->llama-index) (1.59.7)\n",
      "Requirement already satisfied: PyYAML>=6.0.1 in /home/amd/anaconda3/lib/python3.12/site-packages (from llama-index-core<0.13.0,>=0.12.10->llama-index) (6.0.1)\n",
      "Requirement already satisfied: SQLAlchemy>=1.4.49 in /home/amd/anaconda3/lib/python3.12/site-packages (from SQLAlchemy[asyncio]>=1.4.49->llama-index-core<0.13.0,>=0.12.10->llama-index) (2.0.34)\n",
      "Requirement already satisfied: aiohttp<4.0.0,>=3.8.6 in /home/amd/anaconda3/lib/python3.12/site-packages (from llama-index-core<0.13.0,>=0.12.10->llama-index) (3.10.5)\n",
      "Requirement already satisfied: dataclasses-json in /home/amd/anaconda3/lib/python3.12/site-packages (from llama-index-core<0.13.0,>=0.12.10->llama-index) (0.6.7)\n",
      "Requirement already satisfied: deprecated>=1.2.9.3 in /home/amd/anaconda3/lib/python3.12/site-packages (from llama-index-core<0.13.0,>=0.12.10->llama-index) (1.2.15)\n",
      "Requirement already satisfied: dirtyjson<2.0.0,>=1.0.8 in /home/amd/anaconda3/lib/python3.12/site-packages (from llama-index-core<0.13.0,>=0.12.10->llama-index) (1.0.8)\n",
      "Requirement already satisfied: filetype<2.0.0,>=1.2.0 in /home/amd/anaconda3/lib/python3.12/site-packages (from llama-index-core<0.13.0,>=0.12.10->llama-index) (1.2.0)\n",
      "Requirement already satisfied: fsspec>=2023.5.0 in /home/amd/anaconda3/lib/python3.12/site-packages (from llama-index-core<0.13.0,>=0.12.10->llama-index) (2024.6.1)\n",
      "Requirement already satisfied: httpx in /home/amd/anaconda3/lib/python3.12/site-packages (from llama-index-core<0.13.0,>=0.12.10->llama-index) (0.27.0)\n",
      "Requirement already satisfied: nest-asyncio<2.0.0,>=1.5.8 in /home/amd/anaconda3/lib/python3.12/site-packages (from llama-index-core<0.13.0,>=0.12.10->llama-index) (1.6.0)\n",
      "Requirement already satisfied: networkx>=3.0 in /home/amd/anaconda3/lib/python3.12/site-packages (from llama-index-core<0.13.0,>=0.12.10->llama-index) (3.3)\n",
      "Requirement already satisfied: numpy in /home/amd/anaconda3/lib/python3.12/site-packages (from llama-index-core<0.13.0,>=0.12.10->llama-index) (1.26.4)\n",
      "Requirement already satisfied: pillow>=9.0.0 in /home/amd/anaconda3/lib/python3.12/site-packages (from llama-index-core<0.13.0,>=0.12.10->llama-index) (10.4.0)\n",
      "Requirement already satisfied: pydantic>=2.8.0 in /home/amd/anaconda3/lib/python3.12/site-packages (from llama-index-core<0.13.0,>=0.12.10->llama-index) (2.10.5)\n",
      "Requirement already satisfied: requests>=2.31.0 in /home/amd/anaconda3/lib/python3.12/site-packages (from llama-index-core<0.13.0,>=0.12.10->llama-index) (2.32.3)\n",
      "Requirement already satisfied: tenacity!=8.4.0,<10.0.0,>=8.2.0 in /home/amd/anaconda3/lib/python3.12/site-packages (from llama-index-core<0.13.0,>=0.12.10->llama-index) (8.2.3)\n",
      "Requirement already satisfied: tiktoken>=0.3.3 in /home/amd/anaconda3/lib/python3.12/site-packages (from llama-index-core<0.13.0,>=0.12.10->llama-index) (0.8.0)\n",
      "Requirement already satisfied: tqdm<5.0.0,>=4.66.1 in /home/amd/anaconda3/lib/python3.12/site-packages (from llama-index-core<0.13.0,>=0.12.10->llama-index) (4.66.5)\n",
      "Requirement already satisfied: typing-extensions>=4.5.0 in /home/amd/anaconda3/lib/python3.12/site-packages (from llama-index-core<0.13.0,>=0.12.10->llama-index) (4.12.2)\n",
      "Requirement already satisfied: typing-inspect>=0.8.0 in /home/amd/anaconda3/lib/python3.12/site-packages (from llama-index-core<0.13.0,>=0.12.10->llama-index) (0.9.0)\n",
      "Requirement already satisfied: wrapt in /home/amd/anaconda3/lib/python3.12/site-packages (from llama-index-core<0.13.0,>=0.12.10->llama-index) (1.14.1)\n",
      "Requirement already satisfied: llama-cloud>=0.1.5 in /home/amd/anaconda3/lib/python3.12/site-packages (from llama-index-indices-managed-llama-cloud>=0.4.0->llama-index) (0.1.8)\n",
      "Requirement already satisfied: beautifulsoup4<5.0.0,>=4.12.3 in /home/amd/anaconda3/lib/python3.12/site-packages (from llama-index-readers-file<0.5.0,>=0.4.0->llama-index) (4.12.3)\n",
      "Requirement already satisfied: pandas in /home/amd/anaconda3/lib/python3.12/site-packages (from llama-index-readers-file<0.5.0,>=0.4.0->llama-index) (2.2.2)\n",
      "Requirement already satisfied: pypdf<6.0.0,>=5.1.0 in /home/amd/anaconda3/lib/python3.12/site-packages (from llama-index-readers-file<0.5.0,>=0.4.0->llama-index) (5.1.0)\n",
      "Requirement already satisfied: striprtf<0.0.27,>=0.0.26 in /home/amd/anaconda3/lib/python3.12/site-packages (from llama-index-readers-file<0.5.0,>=0.4.0->llama-index) (0.0.26)\n",
      "Requirement already satisfied: llama-parse>=0.5.0 in /home/amd/anaconda3/lib/python3.12/site-packages (from llama-index-readers-llama-parse>=0.4.0->llama-index) (0.5.19)\n",
      "Requirement already satisfied: click in /home/amd/anaconda3/lib/python3.12/site-packages (from nltk>3.8.1->llama-index) (8.1.7)\n",
      "Requirement already satisfied: joblib in /home/amd/anaconda3/lib/python3.12/site-packages (from nltk>3.8.1->llama-index) (1.4.2)\n",
      "Requirement already satisfied: regex>=2021.8.3 in /home/amd/anaconda3/lib/python3.12/site-packages (from nltk>3.8.1->llama-index) (2024.9.11)\n",
      "Requirement already satisfied: aiohappyeyeballs>=2.3.0 in /home/amd/anaconda3/lib/python3.12/site-packages (from aiohttp<4.0.0,>=3.8.6->llama-index-core<0.13.0,>=0.12.10->llama-index) (2.4.0)\n",
      "Requirement already satisfied: aiosignal>=1.1.2 in /home/amd/anaconda3/lib/python3.12/site-packages (from aiohttp<4.0.0,>=3.8.6->llama-index-core<0.13.0,>=0.12.10->llama-index) (1.2.0)\n",
      "Requirement already satisfied: attrs>=17.3.0 in /home/amd/anaconda3/lib/python3.12/site-packages (from aiohttp<4.0.0,>=3.8.6->llama-index-core<0.13.0,>=0.12.10->llama-index) (24.3.0)\n",
      "Requirement already satisfied: frozenlist>=1.1.1 in /home/amd/anaconda3/lib/python3.12/site-packages (from aiohttp<4.0.0,>=3.8.6->llama-index-core<0.13.0,>=0.12.10->llama-index) (1.4.0)\n",
      "Requirement already satisfied: multidict<7.0,>=4.5 in /home/amd/anaconda3/lib/python3.12/site-packages (from aiohttp<4.0.0,>=3.8.6->llama-index-core<0.13.0,>=0.12.10->llama-index) (6.0.4)\n",
      "Requirement already satisfied: yarl<2.0,>=1.0 in /home/amd/anaconda3/lib/python3.12/site-packages (from aiohttp<4.0.0,>=3.8.6->llama-index-core<0.13.0,>=0.12.10->llama-index) (1.11.0)\n",
      "Requirement already satisfied: soupsieve>1.2 in /home/amd/anaconda3/lib/python3.12/site-packages (from beautifulsoup4<5.0.0,>=4.12.3->llama-index-readers-file<0.5.0,>=0.4.0->llama-index) (2.5)\n",
      "Requirement already satisfied: certifi<2025.0.0,>=2024.7.4 in /home/amd/anaconda3/lib/python3.12/site-packages (from llama-cloud>=0.1.5->llama-index-indices-managed-llama-cloud>=0.4.0->llama-index) (2024.12.14)\n",
      "Requirement already satisfied: anyio in /home/amd/anaconda3/lib/python3.12/site-packages (from httpx->llama-index-core<0.13.0,>=0.12.10->llama-index) (4.2.0)\n",
      "Requirement already satisfied: httpcore==1.* in /home/amd/anaconda3/lib/python3.12/site-packages (from httpx->llama-index-core<0.13.0,>=0.12.10->llama-index) (1.0.2)\n",
      "Requirement already satisfied: idna in /home/amd/anaconda3/lib/python3.12/site-packages (from httpx->llama-index-core<0.13.0,>=0.12.10->llama-index) (3.7)\n",
      "Requirement already satisfied: sniffio in /home/amd/anaconda3/lib/python3.12/site-packages (from httpx->llama-index-core<0.13.0,>=0.12.10->llama-index) (1.3.0)\n",
      "Requirement already satisfied: h11<0.15,>=0.13 in /home/amd/anaconda3/lib/python3.12/site-packages (from httpcore==1.*->httpx->llama-index-core<0.13.0,>=0.12.10->llama-index) (0.14.0)\n",
      "Requirement already satisfied: distro<2,>=1.7.0 in /home/amd/anaconda3/lib/python3.12/site-packages (from openai>=1.14.0->llama-index-agent-openai<0.5.0,>=0.4.0->llama-index) (1.9.0)\n",
      "Requirement already satisfied: jiter<1,>=0.4.0 in /home/amd/anaconda3/lib/python3.12/site-packages (from openai>=1.14.0->llama-index-agent-openai<0.5.0,>=0.4.0->llama-index) (0.8.2)\n",
      "Requirement already satisfied: annotated-types>=0.6.0 in /home/amd/anaconda3/lib/python3.12/site-packages (from pydantic>=2.8.0->llama-index-core<0.13.0,>=0.12.10->llama-index) (0.6.0)\n",
      "Requirement already satisfied: pydantic-core==2.27.2 in /home/amd/anaconda3/lib/python3.12/site-packages (from pydantic>=2.8.0->llama-index-core<0.13.0,>=0.12.10->llama-index) (2.27.2)\n",
      "Requirement already satisfied: charset-normalizer<4,>=2 in /home/amd/anaconda3/lib/python3.12/site-packages (from requests>=2.31.0->llama-index-core<0.13.0,>=0.12.10->llama-index) (3.3.2)\n",
      "Requirement already satisfied: urllib3<3,>=1.21.1 in /home/amd/anaconda3/lib/python3.12/site-packages (from requests>=2.31.0->llama-index-core<0.13.0,>=0.12.10->llama-index) (2.2.3)\n",
      "Requirement already satisfied: greenlet!=0.4.17 in /home/amd/anaconda3/lib/python3.12/site-packages (from SQLAlchemy>=1.4.49->SQLAlchemy[asyncio]>=1.4.49->llama-index-core<0.13.0,>=0.12.10->llama-index) (3.1.1)\n",
      "Requirement already satisfied: mypy-extensions>=0.3.0 in /home/amd/anaconda3/lib/python3.12/site-packages (from typing-inspect>=0.8.0->llama-index-core<0.13.0,>=0.12.10->llama-index) (1.0.0)\n",
      "Requirement already satisfied: marshmallow<4.0.0,>=3.18.0 in /home/amd/anaconda3/lib/python3.12/site-packages (from dataclasses-json->llama-index-core<0.13.0,>=0.12.10->llama-index) (3.25.1)\n",
      "Requirement already satisfied: python-dateutil>=2.8.2 in /home/amd/anaconda3/lib/python3.12/site-packages (from pandas->llama-index-readers-file<0.5.0,>=0.4.0->llama-index) (2.9.0.post0)\n",
      "Requirement already satisfied: pytz>=2020.1 in /home/amd/anaconda3/lib/python3.12/site-packages (from pandas->llama-index-readers-file<0.5.0,>=0.4.0->llama-index) (2024.1)\n",
      "Requirement already satisfied: tzdata>=2022.7 in /home/amd/anaconda3/lib/python3.12/site-packages (from pandas->llama-index-readers-file<0.5.0,>=0.4.0->llama-index) (2023.3)\n",
      "Requirement already satisfied: packaging>=17.0 in /home/amd/anaconda3/lib/python3.12/site-packages (from marshmallow<4.0.0,>=3.18.0->dataclasses-json->llama-index-core<0.13.0,>=0.12.10->llama-index) (24.1)\n",
      "Requirement already satisfied: six>=1.5 in /home/amd/anaconda3/lib/python3.12/site-packages (from python-dateutil>=2.8.2->pandas->llama-index-readers-file<0.5.0,>=0.4.0->llama-index) (1.16.0)\n",
      "Note: you may need to restart the kernel to use updated packages.\n",
      "Requirement already satisfied: llama-index-llms-ollama in /home/amd/anaconda3/lib/python3.12/site-packages (0.5.0)\n",
      "Requirement already satisfied: llama-index-core<0.13.0,>=0.12.4 in /home/amd/anaconda3/lib/python3.12/site-packages (from llama-index-llms-ollama) (0.12.10.post1)\n",
      "Requirement already satisfied: ollama>=0.4.3 in /home/amd/anaconda3/lib/python3.12/site-packages (from llama-index-llms-ollama) (0.4.6)\n",
      "Requirement already satisfied: PyYAML>=6.0.1 in /home/amd/anaconda3/lib/python3.12/site-packages (from llama-index-core<0.13.0,>=0.12.4->llama-index-llms-ollama) (6.0.1)\n",
      "Requirement already satisfied: SQLAlchemy>=1.4.49 in /home/amd/anaconda3/lib/python3.12/site-packages (from SQLAlchemy[asyncio]>=1.4.49->llama-index-core<0.13.0,>=0.12.4->llama-index-llms-ollama) (2.0.34)\n",
      "Requirement already satisfied: aiohttp<4.0.0,>=3.8.6 in /home/amd/anaconda3/lib/python3.12/site-packages (from llama-index-core<0.13.0,>=0.12.4->llama-index-llms-ollama) (3.10.5)\n",
      "Requirement already satisfied: dataclasses-json in /home/amd/anaconda3/lib/python3.12/site-packages (from llama-index-core<0.13.0,>=0.12.4->llama-index-llms-ollama) (0.6.7)\n",
      "Requirement already satisfied: deprecated>=1.2.9.3 in /home/amd/anaconda3/lib/python3.12/site-packages (from llama-index-core<0.13.0,>=0.12.4->llama-index-llms-ollama) (1.2.15)\n",
      "Requirement already satisfied: dirtyjson<2.0.0,>=1.0.8 in /home/amd/anaconda3/lib/python3.12/site-packages (from llama-index-core<0.13.0,>=0.12.4->llama-index-llms-ollama) (1.0.8)\n",
      "Requirement already satisfied: filetype<2.0.0,>=1.2.0 in /home/amd/anaconda3/lib/python3.12/site-packages (from llama-index-core<0.13.0,>=0.12.4->llama-index-llms-ollama) (1.2.0)\n",
      "Requirement already satisfied: fsspec>=2023.5.0 in /home/amd/anaconda3/lib/python3.12/site-packages (from llama-index-core<0.13.0,>=0.12.4->llama-index-llms-ollama) (2024.6.1)\n",
      "Requirement already satisfied: httpx in /home/amd/anaconda3/lib/python3.12/site-packages (from llama-index-core<0.13.0,>=0.12.4->llama-index-llms-ollama) (0.27.0)\n",
      "Requirement already satisfied: nest-asyncio<2.0.0,>=1.5.8 in /home/amd/anaconda3/lib/python3.12/site-packages (from llama-index-core<0.13.0,>=0.12.4->llama-index-llms-ollama) (1.6.0)\n",
      "Requirement already satisfied: networkx>=3.0 in /home/amd/anaconda3/lib/python3.12/site-packages (from llama-index-core<0.13.0,>=0.12.4->llama-index-llms-ollama) (3.3)\n",
      "Requirement already satisfied: nltk>3.8.1 in /home/amd/anaconda3/lib/python3.12/site-packages (from llama-index-core<0.13.0,>=0.12.4->llama-index-llms-ollama) (3.9.1)\n",
      "Requirement already satisfied: numpy in /home/amd/anaconda3/lib/python3.12/site-packages (from llama-index-core<0.13.0,>=0.12.4->llama-index-llms-ollama) (1.26.4)\n",
      "Requirement already satisfied: pillow>=9.0.0 in /home/amd/anaconda3/lib/python3.12/site-packages (from llama-index-core<0.13.0,>=0.12.4->llama-index-llms-ollama) (10.4.0)\n",
      "Requirement already satisfied: pydantic>=2.8.0 in /home/amd/anaconda3/lib/python3.12/site-packages (from llama-index-core<0.13.0,>=0.12.4->llama-index-llms-ollama) (2.10.5)\n",
      "Requirement already satisfied: requests>=2.31.0 in /home/amd/anaconda3/lib/python3.12/site-packages (from llama-index-core<0.13.0,>=0.12.4->llama-index-llms-ollama) (2.32.3)\n",
      "Requirement already satisfied: tenacity!=8.4.0,<10.0.0,>=8.2.0 in /home/amd/anaconda3/lib/python3.12/site-packages (from llama-index-core<0.13.0,>=0.12.4->llama-index-llms-ollama) (8.2.3)\n",
      "Requirement already satisfied: tiktoken>=0.3.3 in /home/amd/anaconda3/lib/python3.12/site-packages (from llama-index-core<0.13.0,>=0.12.4->llama-index-llms-ollama) (0.8.0)\n",
      "Requirement already satisfied: tqdm<5.0.0,>=4.66.1 in /home/amd/anaconda3/lib/python3.12/site-packages (from llama-index-core<0.13.0,>=0.12.4->llama-index-llms-ollama) (4.66.5)\n",
      "Requirement already satisfied: typing-extensions>=4.5.0 in /home/amd/anaconda3/lib/python3.12/site-packages (from llama-index-core<0.13.0,>=0.12.4->llama-index-llms-ollama) (4.12.2)\n",
      "Requirement already satisfied: typing-inspect>=0.8.0 in /home/amd/anaconda3/lib/python3.12/site-packages (from llama-index-core<0.13.0,>=0.12.4->llama-index-llms-ollama) (0.9.0)\n",
      "Requirement already satisfied: wrapt in /home/amd/anaconda3/lib/python3.12/site-packages (from llama-index-core<0.13.0,>=0.12.4->llama-index-llms-ollama) (1.14.1)\n",
      "Requirement already satisfied: aiohappyeyeballs>=2.3.0 in /home/amd/anaconda3/lib/python3.12/site-packages (from aiohttp<4.0.0,>=3.8.6->llama-index-core<0.13.0,>=0.12.4->llama-index-llms-ollama) (2.4.0)\n",
      "Requirement already satisfied: aiosignal>=1.1.2 in /home/amd/anaconda3/lib/python3.12/site-packages (from aiohttp<4.0.0,>=3.8.6->llama-index-core<0.13.0,>=0.12.4->llama-index-llms-ollama) (1.2.0)\n",
      "Requirement already satisfied: attrs>=17.3.0 in /home/amd/anaconda3/lib/python3.12/site-packages (from aiohttp<4.0.0,>=3.8.6->llama-index-core<0.13.0,>=0.12.4->llama-index-llms-ollama) (24.3.0)\n",
      "Requirement already satisfied: frozenlist>=1.1.1 in /home/amd/anaconda3/lib/python3.12/site-packages (from aiohttp<4.0.0,>=3.8.6->llama-index-core<0.13.0,>=0.12.4->llama-index-llms-ollama) (1.4.0)\n",
      "Requirement already satisfied: multidict<7.0,>=4.5 in /home/amd/anaconda3/lib/python3.12/site-packages (from aiohttp<4.0.0,>=3.8.6->llama-index-core<0.13.0,>=0.12.4->llama-index-llms-ollama) (6.0.4)\n",
      "Requirement already satisfied: yarl<2.0,>=1.0 in /home/amd/anaconda3/lib/python3.12/site-packages (from aiohttp<4.0.0,>=3.8.6->llama-index-core<0.13.0,>=0.12.4->llama-index-llms-ollama) (1.11.0)\n",
      "Requirement already satisfied: anyio in /home/amd/anaconda3/lib/python3.12/site-packages (from httpx->llama-index-core<0.13.0,>=0.12.4->llama-index-llms-ollama) (4.2.0)\n",
      "Requirement already satisfied: certifi in /home/amd/anaconda3/lib/python3.12/site-packages (from httpx->llama-index-core<0.13.0,>=0.12.4->llama-index-llms-ollama) (2024.12.14)\n",
      "Requirement already satisfied: httpcore==1.* in /home/amd/anaconda3/lib/python3.12/site-packages (from httpx->llama-index-core<0.13.0,>=0.12.4->llama-index-llms-ollama) (1.0.2)\n",
      "Requirement already satisfied: idna in /home/amd/anaconda3/lib/python3.12/site-packages (from httpx->llama-index-core<0.13.0,>=0.12.4->llama-index-llms-ollama) (3.7)\n",
      "Requirement already satisfied: sniffio in /home/amd/anaconda3/lib/python3.12/site-packages (from httpx->llama-index-core<0.13.0,>=0.12.4->llama-index-llms-ollama) (1.3.0)\n",
      "Requirement already satisfied: h11<0.15,>=0.13 in /home/amd/anaconda3/lib/python3.12/site-packages (from httpcore==1.*->httpx->llama-index-core<0.13.0,>=0.12.4->llama-index-llms-ollama) (0.14.0)\n",
      "Requirement already satisfied: click in /home/amd/anaconda3/lib/python3.12/site-packages (from nltk>3.8.1->llama-index-core<0.13.0,>=0.12.4->llama-index-llms-ollama) (8.1.7)\n",
      "Requirement already satisfied: joblib in /home/amd/anaconda3/lib/python3.12/site-packages (from nltk>3.8.1->llama-index-core<0.13.0,>=0.12.4->llama-index-llms-ollama) (1.4.2)\n",
      "Requirement already satisfied: regex>=2021.8.3 in /home/amd/anaconda3/lib/python3.12/site-packages (from nltk>3.8.1->llama-index-core<0.13.0,>=0.12.4->llama-index-llms-ollama) (2024.9.11)\n",
      "Requirement already satisfied: annotated-types>=0.6.0 in /home/amd/anaconda3/lib/python3.12/site-packages (from pydantic>=2.8.0->llama-index-core<0.13.0,>=0.12.4->llama-index-llms-ollama) (0.6.0)\n",
      "Requirement already satisfied: pydantic-core==2.27.2 in /home/amd/anaconda3/lib/python3.12/site-packages (from pydantic>=2.8.0->llama-index-core<0.13.0,>=0.12.4->llama-index-llms-ollama) (2.27.2)\n",
      "Requirement already satisfied: charset-normalizer<4,>=2 in /home/amd/anaconda3/lib/python3.12/site-packages (from requests>=2.31.0->llama-index-core<0.13.0,>=0.12.4->llama-index-llms-ollama) (3.3.2)\n",
      "Requirement already satisfied: urllib3<3,>=1.21.1 in /home/amd/anaconda3/lib/python3.12/site-packages (from requests>=2.31.0->llama-index-core<0.13.0,>=0.12.4->llama-index-llms-ollama) (2.2.3)\n",
      "Requirement already satisfied: greenlet!=0.4.17 in /home/amd/anaconda3/lib/python3.12/site-packages (from SQLAlchemy>=1.4.49->SQLAlchemy[asyncio]>=1.4.49->llama-index-core<0.13.0,>=0.12.4->llama-index-llms-ollama) (3.1.1)\n",
      "Requirement already satisfied: mypy-extensions>=0.3.0 in /home/amd/anaconda3/lib/python3.12/site-packages (from typing-inspect>=0.8.0->llama-index-core<0.13.0,>=0.12.4->llama-index-llms-ollama) (1.0.0)\n",
      "Requirement already satisfied: marshmallow<4.0.0,>=3.18.0 in /home/amd/anaconda3/lib/python3.12/site-packages (from dataclasses-json->llama-index-core<0.13.0,>=0.12.4->llama-index-llms-ollama) (3.25.1)\n",
      "Requirement already satisfied: packaging>=17.0 in /home/amd/anaconda3/lib/python3.12/site-packages (from marshmallow<4.0.0,>=3.18.0->dataclasses-json->llama-index-core<0.13.0,>=0.12.4->llama-index-llms-ollama) (24.1)\n",
      "Note: you may need to restart the kernel to use updated packages.\n",
      "Requirement already satisfied: llama-index-embeddings-ollama in /home/amd/anaconda3/lib/python3.12/site-packages (0.5.0)\n",
      "Requirement already satisfied: llama-index-core<0.13.0,>=0.12.0 in /home/amd/anaconda3/lib/python3.12/site-packages (from llama-index-embeddings-ollama) (0.12.10.post1)\n",
      "Requirement already satisfied: ollama>=0.3.1 in /home/amd/anaconda3/lib/python3.12/site-packages (from llama-index-embeddings-ollama) (0.4.6)\n",
      "Requirement already satisfied: PyYAML>=6.0.1 in /home/amd/anaconda3/lib/python3.12/site-packages (from llama-index-core<0.13.0,>=0.12.0->llama-index-embeddings-ollama) (6.0.1)\n",
      "Requirement already satisfied: SQLAlchemy>=1.4.49 in /home/amd/anaconda3/lib/python3.12/site-packages (from SQLAlchemy[asyncio]>=1.4.49->llama-index-core<0.13.0,>=0.12.0->llama-index-embeddings-ollama) (2.0.34)\n",
      "Requirement already satisfied: aiohttp<4.0.0,>=3.8.6 in /home/amd/anaconda3/lib/python3.12/site-packages (from llama-index-core<0.13.0,>=0.12.0->llama-index-embeddings-ollama) (3.10.5)\n",
      "Requirement already satisfied: dataclasses-json in /home/amd/anaconda3/lib/python3.12/site-packages (from llama-index-core<0.13.0,>=0.12.0->llama-index-embeddings-ollama) (0.6.7)\n",
      "Requirement already satisfied: deprecated>=1.2.9.3 in /home/amd/anaconda3/lib/python3.12/site-packages (from llama-index-core<0.13.0,>=0.12.0->llama-index-embeddings-ollama) (1.2.15)\n",
      "Requirement already satisfied: dirtyjson<2.0.0,>=1.0.8 in /home/amd/anaconda3/lib/python3.12/site-packages (from llama-index-core<0.13.0,>=0.12.0->llama-index-embeddings-ollama) (1.0.8)\n",
      "Requirement already satisfied: filetype<2.0.0,>=1.2.0 in /home/amd/anaconda3/lib/python3.12/site-packages (from llama-index-core<0.13.0,>=0.12.0->llama-index-embeddings-ollama) (1.2.0)\n",
      "Requirement already satisfied: fsspec>=2023.5.0 in /home/amd/anaconda3/lib/python3.12/site-packages (from llama-index-core<0.13.0,>=0.12.0->llama-index-embeddings-ollama) (2024.6.1)\n",
      "Requirement already satisfied: httpx in /home/amd/anaconda3/lib/python3.12/site-packages (from llama-index-core<0.13.0,>=0.12.0->llama-index-embeddings-ollama) (0.27.0)\n",
      "Requirement already satisfied: nest-asyncio<2.0.0,>=1.5.8 in /home/amd/anaconda3/lib/python3.12/site-packages (from llama-index-core<0.13.0,>=0.12.0->llama-index-embeddings-ollama) (1.6.0)\n",
      "Requirement already satisfied: networkx>=3.0 in /home/amd/anaconda3/lib/python3.12/site-packages (from llama-index-core<0.13.0,>=0.12.0->llama-index-embeddings-ollama) (3.3)\n",
      "Requirement already satisfied: nltk>3.8.1 in /home/amd/anaconda3/lib/python3.12/site-packages (from llama-index-core<0.13.0,>=0.12.0->llama-index-embeddings-ollama) (3.9.1)\n",
      "Requirement already satisfied: numpy in /home/amd/anaconda3/lib/python3.12/site-packages (from llama-index-core<0.13.0,>=0.12.0->llama-index-embeddings-ollama) (1.26.4)\n",
      "Requirement already satisfied: pillow>=9.0.0 in /home/amd/anaconda3/lib/python3.12/site-packages (from llama-index-core<0.13.0,>=0.12.0->llama-index-embeddings-ollama) (10.4.0)\n",
      "Requirement already satisfied: pydantic>=2.8.0 in /home/amd/anaconda3/lib/python3.12/site-packages (from llama-index-core<0.13.0,>=0.12.0->llama-index-embeddings-ollama) (2.10.5)\n",
      "Requirement already satisfied: requests>=2.31.0 in /home/amd/anaconda3/lib/python3.12/site-packages (from llama-index-core<0.13.0,>=0.12.0->llama-index-embeddings-ollama) (2.32.3)\n",
      "Requirement already satisfied: tenacity!=8.4.0,<10.0.0,>=8.2.0 in /home/amd/anaconda3/lib/python3.12/site-packages (from llama-index-core<0.13.0,>=0.12.0->llama-index-embeddings-ollama) (8.2.3)\n",
      "Requirement already satisfied: tiktoken>=0.3.3 in /home/amd/anaconda3/lib/python3.12/site-packages (from llama-index-core<0.13.0,>=0.12.0->llama-index-embeddings-ollama) (0.8.0)\n",
      "Requirement already satisfied: tqdm<5.0.0,>=4.66.1 in /home/amd/anaconda3/lib/python3.12/site-packages (from llama-index-core<0.13.0,>=0.12.0->llama-index-embeddings-ollama) (4.66.5)\n",
      "Requirement already satisfied: typing-extensions>=4.5.0 in /home/amd/anaconda3/lib/python3.12/site-packages (from llama-index-core<0.13.0,>=0.12.0->llama-index-embeddings-ollama) (4.12.2)\n",
      "Requirement already satisfied: typing-inspect>=0.8.0 in /home/amd/anaconda3/lib/python3.12/site-packages (from llama-index-core<0.13.0,>=0.12.0->llama-index-embeddings-ollama) (0.9.0)\n",
      "Requirement already satisfied: wrapt in /home/amd/anaconda3/lib/python3.12/site-packages (from llama-index-core<0.13.0,>=0.12.0->llama-index-embeddings-ollama) (1.14.1)\n",
      "Requirement already satisfied: aiohappyeyeballs>=2.3.0 in /home/amd/anaconda3/lib/python3.12/site-packages (from aiohttp<4.0.0,>=3.8.6->llama-index-core<0.13.0,>=0.12.0->llama-index-embeddings-ollama) (2.4.0)\n",
      "Requirement already satisfied: aiosignal>=1.1.2 in /home/amd/anaconda3/lib/python3.12/site-packages (from aiohttp<4.0.0,>=3.8.6->llama-index-core<0.13.0,>=0.12.0->llama-index-embeddings-ollama) (1.2.0)\n",
      "Requirement already satisfied: attrs>=17.3.0 in /home/amd/anaconda3/lib/python3.12/site-packages (from aiohttp<4.0.0,>=3.8.6->llama-index-core<0.13.0,>=0.12.0->llama-index-embeddings-ollama) (24.3.0)\n",
      "Requirement already satisfied: frozenlist>=1.1.1 in /home/amd/anaconda3/lib/python3.12/site-packages (from aiohttp<4.0.0,>=3.8.6->llama-index-core<0.13.0,>=0.12.0->llama-index-embeddings-ollama) (1.4.0)\n",
      "Requirement already satisfied: multidict<7.0,>=4.5 in /home/amd/anaconda3/lib/python3.12/site-packages (from aiohttp<4.0.0,>=3.8.6->llama-index-core<0.13.0,>=0.12.0->llama-index-embeddings-ollama) (6.0.4)\n",
      "Requirement already satisfied: yarl<2.0,>=1.0 in /home/amd/anaconda3/lib/python3.12/site-packages (from aiohttp<4.0.0,>=3.8.6->llama-index-core<0.13.0,>=0.12.0->llama-index-embeddings-ollama) (1.11.0)\n",
      "Requirement already satisfied: anyio in /home/amd/anaconda3/lib/python3.12/site-packages (from httpx->llama-index-core<0.13.0,>=0.12.0->llama-index-embeddings-ollama) (4.2.0)\n",
      "Requirement already satisfied: certifi in /home/amd/anaconda3/lib/python3.12/site-packages (from httpx->llama-index-core<0.13.0,>=0.12.0->llama-index-embeddings-ollama) (2024.12.14)\n",
      "Requirement already satisfied: httpcore==1.* in /home/amd/anaconda3/lib/python3.12/site-packages (from httpx->llama-index-core<0.13.0,>=0.12.0->llama-index-embeddings-ollama) (1.0.2)\n",
      "Requirement already satisfied: idna in /home/amd/anaconda3/lib/python3.12/site-packages (from httpx->llama-index-core<0.13.0,>=0.12.0->llama-index-embeddings-ollama) (3.7)\n",
      "Requirement already satisfied: sniffio in /home/amd/anaconda3/lib/python3.12/site-packages (from httpx->llama-index-core<0.13.0,>=0.12.0->llama-index-embeddings-ollama) (1.3.0)\n",
      "Requirement already satisfied: h11<0.15,>=0.13 in /home/amd/anaconda3/lib/python3.12/site-packages (from httpcore==1.*->httpx->llama-index-core<0.13.0,>=0.12.0->llama-index-embeddings-ollama) (0.14.0)\n",
      "Requirement already satisfied: click in /home/amd/anaconda3/lib/python3.12/site-packages (from nltk>3.8.1->llama-index-core<0.13.0,>=0.12.0->llama-index-embeddings-ollama) (8.1.7)\n",
      "Requirement already satisfied: joblib in /home/amd/anaconda3/lib/python3.12/site-packages (from nltk>3.8.1->llama-index-core<0.13.0,>=0.12.0->llama-index-embeddings-ollama) (1.4.2)\n",
      "Requirement already satisfied: regex>=2021.8.3 in /home/amd/anaconda3/lib/python3.12/site-packages (from nltk>3.8.1->llama-index-core<0.13.0,>=0.12.0->llama-index-embeddings-ollama) (2024.9.11)\n",
      "Requirement already satisfied: annotated-types>=0.6.0 in /home/amd/anaconda3/lib/python3.12/site-packages (from pydantic>=2.8.0->llama-index-core<0.13.0,>=0.12.0->llama-index-embeddings-ollama) (0.6.0)\n",
      "Requirement already satisfied: pydantic-core==2.27.2 in /home/amd/anaconda3/lib/python3.12/site-packages (from pydantic>=2.8.0->llama-index-core<0.13.0,>=0.12.0->llama-index-embeddings-ollama) (2.27.2)\n",
      "Requirement already satisfied: charset-normalizer<4,>=2 in /home/amd/anaconda3/lib/python3.12/site-packages (from requests>=2.31.0->llama-index-core<0.13.0,>=0.12.0->llama-index-embeddings-ollama) (3.3.2)\n",
      "Requirement already satisfied: urllib3<3,>=1.21.1 in /home/amd/anaconda3/lib/python3.12/site-packages (from requests>=2.31.0->llama-index-core<0.13.0,>=0.12.0->llama-index-embeddings-ollama) (2.2.3)\n",
      "Requirement already satisfied: greenlet!=0.4.17 in /home/amd/anaconda3/lib/python3.12/site-packages (from SQLAlchemy>=1.4.49->SQLAlchemy[asyncio]>=1.4.49->llama-index-core<0.13.0,>=0.12.0->llama-index-embeddings-ollama) (3.1.1)\n",
      "Requirement already satisfied: mypy-extensions>=0.3.0 in /home/amd/anaconda3/lib/python3.12/site-packages (from typing-inspect>=0.8.0->llama-index-core<0.13.0,>=0.12.0->llama-index-embeddings-ollama) (1.0.0)\n",
      "Requirement already satisfied: marshmallow<4.0.0,>=3.18.0 in /home/amd/anaconda3/lib/python3.12/site-packages (from dataclasses-json->llama-index-core<0.13.0,>=0.12.0->llama-index-embeddings-ollama) (3.25.1)\n",
      "Requirement already satisfied: packaging>=17.0 in /home/amd/anaconda3/lib/python3.12/site-packages (from marshmallow<4.0.0,>=3.18.0->dataclasses-json->llama-index-core<0.13.0,>=0.12.0->llama-index-embeddings-ollama) (24.1)\n",
      "Note: you may need to restart the kernel to use updated packages.\n",
      "Requirement already satisfied: llama-index-vector-stores-chroma in /home/amd/anaconda3/lib/python3.12/site-packages (0.4.1)\n",
      "Requirement already satisfied: chromadb>=0.5.17 in /home/amd/anaconda3/lib/python3.12/site-packages (from llama-index-vector-stores-chroma) (0.6.2)\n",
      "Requirement already satisfied: llama-index-core<0.13.0,>=0.12.0 in /home/amd/anaconda3/lib/python3.12/site-packages (from llama-index-vector-stores-chroma) (0.12.10.post1)\n",
      "Requirement already satisfied: build>=1.0.3 in /home/amd/anaconda3/lib/python3.12/site-packages (from chromadb>=0.5.17->llama-index-vector-stores-chroma) (1.2.2.post1)\n",
      "Requirement already satisfied: pydantic>=1.9 in /home/amd/anaconda3/lib/python3.12/site-packages (from chromadb>=0.5.17->llama-index-vector-stores-chroma) (2.10.5)\n",
      "Requirement already satisfied: chroma-hnswlib==0.7.6 in /home/amd/anaconda3/lib/python3.12/site-packages (from chromadb>=0.5.17->llama-index-vector-stores-chroma) (0.7.6)\n",
      "Requirement already satisfied: fastapi>=0.95.2 in /home/amd/anaconda3/lib/python3.12/site-packages (from chromadb>=0.5.17->llama-index-vector-stores-chroma) (0.115.6)\n",
      "Requirement already satisfied: uvicorn>=0.18.3 in /home/amd/anaconda3/lib/python3.12/site-packages (from uvicorn[standard]>=0.18.3->chromadb>=0.5.17->llama-index-vector-stores-chroma) (0.34.0)\n",
      "Requirement already satisfied: numpy>=1.22.5 in /home/amd/anaconda3/lib/python3.12/site-packages (from chromadb>=0.5.17->llama-index-vector-stores-chroma) (1.26.4)\n",
      "Requirement already satisfied: posthog>=2.4.0 in /home/amd/anaconda3/lib/python3.12/site-packages (from chromadb>=0.5.17->llama-index-vector-stores-chroma) (3.8.1)\n",
      "Requirement already satisfied: typing_extensions>=4.5.0 in /home/amd/anaconda3/lib/python3.12/site-packages (from chromadb>=0.5.17->llama-index-vector-stores-chroma) (4.12.2)\n",
      "Requirement already satisfied: onnxruntime>=1.14.1 in /home/amd/anaconda3/lib/python3.12/site-packages (from chromadb>=0.5.17->llama-index-vector-stores-chroma) (1.20.1)\n",
      "Requirement already satisfied: opentelemetry-api>=1.2.0 in /home/amd/anaconda3/lib/python3.12/site-packages (from chromadb>=0.5.17->llama-index-vector-stores-chroma) (1.29.0)\n",
      "Requirement already satisfied: opentelemetry-exporter-otlp-proto-grpc>=1.2.0 in /home/amd/anaconda3/lib/python3.12/site-packages (from chromadb>=0.5.17->llama-index-vector-stores-chroma) (1.29.0)\n",
      "Requirement already satisfied: opentelemetry-instrumentation-fastapi>=0.41b0 in /home/amd/anaconda3/lib/python3.12/site-packages (from chromadb>=0.5.17->llama-index-vector-stores-chroma) (0.50b0)\n",
      "Requirement already satisfied: opentelemetry-sdk>=1.2.0 in /home/amd/anaconda3/lib/python3.12/site-packages (from chromadb>=0.5.17->llama-index-vector-stores-chroma) (1.29.0)\n",
      "Requirement already satisfied: tokenizers>=0.13.2 in /home/amd/anaconda3/lib/python3.12/site-packages (from chromadb>=0.5.17->llama-index-vector-stores-chroma) (0.21.0)\n",
      "Requirement already satisfied: pypika>=0.48.9 in /home/amd/anaconda3/lib/python3.12/site-packages (from chromadb>=0.5.17->llama-index-vector-stores-chroma) (0.48.9)\n",
      "Requirement already satisfied: tqdm>=4.65.0 in /home/amd/anaconda3/lib/python3.12/site-packages (from chromadb>=0.5.17->llama-index-vector-stores-chroma) (4.66.5)\n",
      "Requirement already satisfied: overrides>=7.3.1 in /home/amd/anaconda3/lib/python3.12/site-packages (from chromadb>=0.5.17->llama-index-vector-stores-chroma) (7.4.0)\n",
      "Requirement already satisfied: importlib-resources in /home/amd/anaconda3/lib/python3.12/site-packages (from chromadb>=0.5.17->llama-index-vector-stores-chroma) (6.5.2)\n",
      "Requirement already satisfied: grpcio>=1.58.0 in /home/amd/anaconda3/lib/python3.12/site-packages (from chromadb>=0.5.17->llama-index-vector-stores-chroma) (1.69.0)\n",
      "Requirement already satisfied: bcrypt>=4.0.1 in /home/amd/anaconda3/lib/python3.12/site-packages (from chromadb>=0.5.17->llama-index-vector-stores-chroma) (4.2.1)\n",
      "Requirement already satisfied: typer>=0.9.0 in /home/amd/anaconda3/lib/python3.12/site-packages (from chromadb>=0.5.17->llama-index-vector-stores-chroma) (0.15.1)\n",
      "Requirement already satisfied: kubernetes>=28.1.0 in /home/amd/anaconda3/lib/python3.12/site-packages (from chromadb>=0.5.17->llama-index-vector-stores-chroma) (31.0.0)\n",
      "Requirement already satisfied: tenacity>=8.2.3 in /home/amd/anaconda3/lib/python3.12/site-packages (from chromadb>=0.5.17->llama-index-vector-stores-chroma) (8.2.3)\n",
      "Requirement already satisfied: PyYAML>=6.0.0 in /home/amd/anaconda3/lib/python3.12/site-packages (from chromadb>=0.5.17->llama-index-vector-stores-chroma) (6.0.1)\n",
      "Requirement already satisfied: mmh3>=4.0.1 in /home/amd/anaconda3/lib/python3.12/site-packages (from chromadb>=0.5.17->llama-index-vector-stores-chroma) (5.0.1)\n",
      "Requirement already satisfied: orjson>=3.9.12 in /home/amd/anaconda3/lib/python3.12/site-packages (from chromadb>=0.5.17->llama-index-vector-stores-chroma) (3.10.14)\n",
      "Requirement already satisfied: httpx>=0.27.0 in /home/amd/anaconda3/lib/python3.12/site-packages (from chromadb>=0.5.17->llama-index-vector-stores-chroma) (0.27.0)\n",
      "Requirement already satisfied: rich>=10.11.0 in /home/amd/anaconda3/lib/python3.12/site-packages (from chromadb>=0.5.17->llama-index-vector-stores-chroma) (13.7.1)\n",
      "Requirement already satisfied: SQLAlchemy>=1.4.49 in /home/amd/anaconda3/lib/python3.12/site-packages (from SQLAlchemy[asyncio]>=1.4.49->llama-index-core<0.13.0,>=0.12.0->llama-index-vector-stores-chroma) (2.0.34)\n",
      "Requirement already satisfied: aiohttp<4.0.0,>=3.8.6 in /home/amd/anaconda3/lib/python3.12/site-packages (from llama-index-core<0.13.0,>=0.12.0->llama-index-vector-stores-chroma) (3.10.5)\n",
      "Requirement already satisfied: dataclasses-json in /home/amd/anaconda3/lib/python3.12/site-packages (from llama-index-core<0.13.0,>=0.12.0->llama-index-vector-stores-chroma) (0.6.7)\n",
      "Requirement already satisfied: deprecated>=1.2.9.3 in /home/amd/anaconda3/lib/python3.12/site-packages (from llama-index-core<0.13.0,>=0.12.0->llama-index-vector-stores-chroma) (1.2.15)\n",
      "Requirement already satisfied: dirtyjson<2.0.0,>=1.0.8 in /home/amd/anaconda3/lib/python3.12/site-packages (from llama-index-core<0.13.0,>=0.12.0->llama-index-vector-stores-chroma) (1.0.8)\n",
      "Requirement already satisfied: filetype<2.0.0,>=1.2.0 in /home/amd/anaconda3/lib/python3.12/site-packages (from llama-index-core<0.13.0,>=0.12.0->llama-index-vector-stores-chroma) (1.2.0)\n",
      "Requirement already satisfied: fsspec>=2023.5.0 in /home/amd/anaconda3/lib/python3.12/site-packages (from llama-index-core<0.13.0,>=0.12.0->llama-index-vector-stores-chroma) (2024.6.1)\n",
      "Requirement already satisfied: nest-asyncio<2.0.0,>=1.5.8 in /home/amd/anaconda3/lib/python3.12/site-packages (from llama-index-core<0.13.0,>=0.12.0->llama-index-vector-stores-chroma) (1.6.0)\n",
      "Requirement already satisfied: networkx>=3.0 in /home/amd/anaconda3/lib/python3.12/site-packages (from llama-index-core<0.13.0,>=0.12.0->llama-index-vector-stores-chroma) (3.3)\n",
      "Requirement already satisfied: nltk>3.8.1 in /home/amd/anaconda3/lib/python3.12/site-packages (from llama-index-core<0.13.0,>=0.12.0->llama-index-vector-stores-chroma) (3.9.1)\n",
      "Requirement already satisfied: pillow>=9.0.0 in /home/amd/anaconda3/lib/python3.12/site-packages (from llama-index-core<0.13.0,>=0.12.0->llama-index-vector-stores-chroma) (10.4.0)\n",
      "Requirement already satisfied: requests>=2.31.0 in /home/amd/anaconda3/lib/python3.12/site-packages (from llama-index-core<0.13.0,>=0.12.0->llama-index-vector-stores-chroma) (2.32.3)\n",
      "Requirement already satisfied: tiktoken>=0.3.3 in /home/amd/anaconda3/lib/python3.12/site-packages (from llama-index-core<0.13.0,>=0.12.0->llama-index-vector-stores-chroma) (0.8.0)\n",
      "Requirement already satisfied: typing-inspect>=0.8.0 in /home/amd/anaconda3/lib/python3.12/site-packages (from llama-index-core<0.13.0,>=0.12.0->llama-index-vector-stores-chroma) (0.9.0)\n",
      "Requirement already satisfied: wrapt in /home/amd/anaconda3/lib/python3.12/site-packages (from llama-index-core<0.13.0,>=0.12.0->llama-index-vector-stores-chroma) (1.14.1)\n",
      "Requirement already satisfied: aiohappyeyeballs>=2.3.0 in /home/amd/anaconda3/lib/python3.12/site-packages (from aiohttp<4.0.0,>=3.8.6->llama-index-core<0.13.0,>=0.12.0->llama-index-vector-stores-chroma) (2.4.0)\n",
      "Requirement already satisfied: aiosignal>=1.1.2 in /home/amd/anaconda3/lib/python3.12/site-packages (from aiohttp<4.0.0,>=3.8.6->llama-index-core<0.13.0,>=0.12.0->llama-index-vector-stores-chroma) (1.2.0)\n",
      "Requirement already satisfied: attrs>=17.3.0 in /home/amd/anaconda3/lib/python3.12/site-packages (from aiohttp<4.0.0,>=3.8.6->llama-index-core<0.13.0,>=0.12.0->llama-index-vector-stores-chroma) (24.3.0)\n",
      "Requirement already satisfied: frozenlist>=1.1.1 in /home/amd/anaconda3/lib/python3.12/site-packages (from aiohttp<4.0.0,>=3.8.6->llama-index-core<0.13.0,>=0.12.0->llama-index-vector-stores-chroma) (1.4.0)\n",
      "Requirement already satisfied: multidict<7.0,>=4.5 in /home/amd/anaconda3/lib/python3.12/site-packages (from aiohttp<4.0.0,>=3.8.6->llama-index-core<0.13.0,>=0.12.0->llama-index-vector-stores-chroma) (6.0.4)\n",
      "Requirement already satisfied: yarl<2.0,>=1.0 in /home/amd/anaconda3/lib/python3.12/site-packages (from aiohttp<4.0.0,>=3.8.6->llama-index-core<0.13.0,>=0.12.0->llama-index-vector-stores-chroma) (1.11.0)\n",
      "Requirement already satisfied: packaging>=19.1 in /home/amd/anaconda3/lib/python3.12/site-packages (from build>=1.0.3->chromadb>=0.5.17->llama-index-vector-stores-chroma) (24.1)\n",
      "Requirement already satisfied: pyproject_hooks in /home/amd/anaconda3/lib/python3.12/site-packages (from build>=1.0.3->chromadb>=0.5.17->llama-index-vector-stores-chroma) (1.2.0)\n",
      "Requirement already satisfied: starlette<0.42.0,>=0.40.0 in /home/amd/anaconda3/lib/python3.12/site-packages (from fastapi>=0.95.2->chromadb>=0.5.17->llama-index-vector-stores-chroma) (0.41.3)\n",
      "Requirement already satisfied: anyio in /home/amd/anaconda3/lib/python3.12/site-packages (from httpx>=0.27.0->chromadb>=0.5.17->llama-index-vector-stores-chroma) (4.2.0)\n",
      "Requirement already satisfied: certifi in /home/amd/anaconda3/lib/python3.12/site-packages (from httpx>=0.27.0->chromadb>=0.5.17->llama-index-vector-stores-chroma) (2024.12.14)\n",
      "Requirement already satisfied: httpcore==1.* in /home/amd/anaconda3/lib/python3.12/site-packages (from httpx>=0.27.0->chromadb>=0.5.17->llama-index-vector-stores-chroma) (1.0.2)\n",
      "Requirement already satisfied: idna in /home/amd/anaconda3/lib/python3.12/site-packages (from httpx>=0.27.0->chromadb>=0.5.17->llama-index-vector-stores-chroma) (3.7)\n",
      "Requirement already satisfied: sniffio in /home/amd/anaconda3/lib/python3.12/site-packages (from httpx>=0.27.0->chromadb>=0.5.17->llama-index-vector-stores-chroma) (1.3.0)\n",
      "Requirement already satisfied: h11<0.15,>=0.13 in /home/amd/anaconda3/lib/python3.12/site-packages (from httpcore==1.*->httpx>=0.27.0->chromadb>=0.5.17->llama-index-vector-stores-chroma) (0.14.0)\n",
      "Requirement already satisfied: six>=1.9.0 in /home/amd/anaconda3/lib/python3.12/site-packages (from kubernetes>=28.1.0->chromadb>=0.5.17->llama-index-vector-stores-chroma) (1.16.0)\n",
      "Requirement already satisfied: python-dateutil>=2.5.3 in /home/amd/anaconda3/lib/python3.12/site-packages (from kubernetes>=28.1.0->chromadb>=0.5.17->llama-index-vector-stores-chroma) (2.9.0.post0)\n",
      "Requirement already satisfied: google-auth>=1.0.1 in /home/amd/anaconda3/lib/python3.12/site-packages (from kubernetes>=28.1.0->chromadb>=0.5.17->llama-index-vector-stores-chroma) (2.37.0)\n",
      "Requirement already satisfied: websocket-client!=0.40.0,!=0.41.*,!=0.42.*,>=0.32.0 in /home/amd/anaconda3/lib/python3.12/site-packages (from kubernetes>=28.1.0->chromadb>=0.5.17->llama-index-vector-stores-chroma) (1.8.0)\n",
      "Requirement already satisfied: requests-oauthlib in /home/amd/anaconda3/lib/python3.12/site-packages (from kubernetes>=28.1.0->chromadb>=0.5.17->llama-index-vector-stores-chroma) (2.0.0)\n",
      "Requirement already satisfied: oauthlib>=3.2.2 in /home/amd/anaconda3/lib/python3.12/site-packages (from kubernetes>=28.1.0->chromadb>=0.5.17->llama-index-vector-stores-chroma) (3.2.2)\n",
      "Requirement already satisfied: urllib3>=1.24.2 in /home/amd/anaconda3/lib/python3.12/site-packages (from kubernetes>=28.1.0->chromadb>=0.5.17->llama-index-vector-stores-chroma) (2.2.3)\n",
      "Requirement already satisfied: durationpy>=0.7 in /home/amd/anaconda3/lib/python3.12/site-packages (from kubernetes>=28.1.0->chromadb>=0.5.17->llama-index-vector-stores-chroma) (0.9)\n",
      "Requirement already satisfied: click in /home/amd/anaconda3/lib/python3.12/site-packages (from nltk>3.8.1->llama-index-core<0.13.0,>=0.12.0->llama-index-vector-stores-chroma) (8.1.7)\n",
      "Requirement already satisfied: joblib in /home/amd/anaconda3/lib/python3.12/site-packages (from nltk>3.8.1->llama-index-core<0.13.0,>=0.12.0->llama-index-vector-stores-chroma) (1.4.2)\n",
      "Requirement already satisfied: regex>=2021.8.3 in /home/amd/anaconda3/lib/python3.12/site-packages (from nltk>3.8.1->llama-index-core<0.13.0,>=0.12.0->llama-index-vector-stores-chroma) (2024.9.11)\n",
      "Requirement already satisfied: coloredlogs in /home/amd/anaconda3/lib/python3.12/site-packages (from onnxruntime>=1.14.1->chromadb>=0.5.17->llama-index-vector-stores-chroma) (15.0.1)\n",
      "Requirement already satisfied: flatbuffers in /home/amd/anaconda3/lib/python3.12/site-packages (from onnxruntime>=1.14.1->chromadb>=0.5.17->llama-index-vector-stores-chroma) (24.12.23)\n",
      "Requirement already satisfied: protobuf in /home/amd/anaconda3/lib/python3.12/site-packages (from onnxruntime>=1.14.1->chromadb>=0.5.17->llama-index-vector-stores-chroma) (5.29.3)\n",
      "Requirement already satisfied: sympy in /home/amd/anaconda3/lib/python3.12/site-packages (from onnxruntime>=1.14.1->chromadb>=0.5.17->llama-index-vector-stores-chroma) (1.13.1)\n",
      "Requirement already satisfied: importlib-metadata<=8.5.0,>=6.0 in /home/amd/anaconda3/lib/python3.12/site-packages (from opentelemetry-api>=1.2.0->chromadb>=0.5.17->llama-index-vector-stores-chroma) (7.0.1)\n",
      "Requirement already satisfied: googleapis-common-protos~=1.52 in /home/amd/anaconda3/lib/python3.12/site-packages (from opentelemetry-exporter-otlp-proto-grpc>=1.2.0->chromadb>=0.5.17->llama-index-vector-stores-chroma) (1.66.0)\n",
      "Requirement already satisfied: opentelemetry-exporter-otlp-proto-common==1.29.0 in /home/amd/anaconda3/lib/python3.12/site-packages (from opentelemetry-exporter-otlp-proto-grpc>=1.2.0->chromadb>=0.5.17->llama-index-vector-stores-chroma) (1.29.0)\n",
      "Requirement already satisfied: opentelemetry-proto==1.29.0 in /home/amd/anaconda3/lib/python3.12/site-packages (from opentelemetry-exporter-otlp-proto-grpc>=1.2.0->chromadb>=0.5.17->llama-index-vector-stores-chroma) (1.29.0)\n",
      "Requirement already satisfied: opentelemetry-instrumentation-asgi==0.50b0 in /home/amd/anaconda3/lib/python3.12/site-packages (from opentelemetry-instrumentation-fastapi>=0.41b0->chromadb>=0.5.17->llama-index-vector-stores-chroma) (0.50b0)\n",
      "Requirement already satisfied: opentelemetry-instrumentation==0.50b0 in /home/amd/anaconda3/lib/python3.12/site-packages (from opentelemetry-instrumentation-fastapi>=0.41b0->chromadb>=0.5.17->llama-index-vector-stores-chroma) (0.50b0)\n",
      "Requirement already satisfied: opentelemetry-semantic-conventions==0.50b0 in /home/amd/anaconda3/lib/python3.12/site-packages (from opentelemetry-instrumentation-fastapi>=0.41b0->chromadb>=0.5.17->llama-index-vector-stores-chroma) (0.50b0)\n",
      "Requirement already satisfied: opentelemetry-util-http==0.50b0 in /home/amd/anaconda3/lib/python3.12/site-packages (from opentelemetry-instrumentation-fastapi>=0.41b0->chromadb>=0.5.17->llama-index-vector-stores-chroma) (0.50b0)\n",
      "Requirement already satisfied: asgiref~=3.0 in /home/amd/anaconda3/lib/python3.12/site-packages (from opentelemetry-instrumentation-asgi==0.50b0->opentelemetry-instrumentation-fastapi>=0.41b0->chromadb>=0.5.17->llama-index-vector-stores-chroma) (3.8.1)\n",
      "Requirement already satisfied: monotonic>=1.5 in /home/amd/anaconda3/lib/python3.12/site-packages (from posthog>=2.4.0->chromadb>=0.5.17->llama-index-vector-stores-chroma) (1.6)\n",
      "Requirement already satisfied: backoff>=1.10.0 in /home/amd/anaconda3/lib/python3.12/site-packages (from posthog>=2.4.0->chromadb>=0.5.17->llama-index-vector-stores-chroma) (2.2.1)\n",
      "Requirement already satisfied: annotated-types>=0.6.0 in /home/amd/anaconda3/lib/python3.12/site-packages (from pydantic>=1.9->chromadb>=0.5.17->llama-index-vector-stores-chroma) (0.6.0)\n",
      "Requirement already satisfied: pydantic-core==2.27.2 in /home/amd/anaconda3/lib/python3.12/site-packages (from pydantic>=1.9->chromadb>=0.5.17->llama-index-vector-stores-chroma) (2.27.2)\n",
      "Requirement already satisfied: charset-normalizer<4,>=2 in /home/amd/anaconda3/lib/python3.12/site-packages (from requests>=2.31.0->llama-index-core<0.13.0,>=0.12.0->llama-index-vector-stores-chroma) (3.3.2)\n",
      "Requirement already satisfied: markdown-it-py>=2.2.0 in /home/amd/anaconda3/lib/python3.12/site-packages (from rich>=10.11.0->chromadb>=0.5.17->llama-index-vector-stores-chroma) (2.2.0)\n",
      "Requirement already satisfied: pygments<3.0.0,>=2.13.0 in /home/amd/anaconda3/lib/python3.12/site-packages (from rich>=10.11.0->chromadb>=0.5.17->llama-index-vector-stores-chroma) (2.15.1)\n",
      "Requirement already satisfied: greenlet!=0.4.17 in /home/amd/anaconda3/lib/python3.12/site-packages (from SQLAlchemy>=1.4.49->SQLAlchemy[asyncio]>=1.4.49->llama-index-core<0.13.0,>=0.12.0->llama-index-vector-stores-chroma) (3.1.1)\n",
      "Requirement already satisfied: huggingface-hub<1.0,>=0.16.4 in /home/amd/anaconda3/lib/python3.12/site-packages (from tokenizers>=0.13.2->chromadb>=0.5.17->llama-index-vector-stores-chroma) (0.27.1)\n",
      "Requirement already satisfied: shellingham>=1.3.0 in /home/amd/anaconda3/lib/python3.12/site-packages (from typer>=0.9.0->chromadb>=0.5.17->llama-index-vector-stores-chroma) (1.5.4)\n",
      "Requirement already satisfied: mypy-extensions>=0.3.0 in /home/amd/anaconda3/lib/python3.12/site-packages (from typing-inspect>=0.8.0->llama-index-core<0.13.0,>=0.12.0->llama-index-vector-stores-chroma) (1.0.0)\n",
      "Requirement already satisfied: httptools>=0.6.3 in /home/amd/anaconda3/lib/python3.12/site-packages (from uvicorn[standard]>=0.18.3->chromadb>=0.5.17->llama-index-vector-stores-chroma) (0.6.4)\n",
      "Requirement already satisfied: python-dotenv>=0.13 in /home/amd/anaconda3/lib/python3.12/site-packages (from uvicorn[standard]>=0.18.3->chromadb>=0.5.17->llama-index-vector-stores-chroma) (0.21.0)\n",
      "Requirement already satisfied: uvloop!=0.15.0,!=0.15.1,>=0.14.0 in /home/amd/anaconda3/lib/python3.12/site-packages (from uvicorn[standard]>=0.18.3->chromadb>=0.5.17->llama-index-vector-stores-chroma) (0.21.0)\n",
      "Requirement already satisfied: watchfiles>=0.13 in /home/amd/anaconda3/lib/python3.12/site-packages (from uvicorn[standard]>=0.18.3->chromadb>=0.5.17->llama-index-vector-stores-chroma) (1.0.4)\n",
      "Requirement already satisfied: websockets>=10.4 in /home/amd/anaconda3/lib/python3.12/site-packages (from uvicorn[standard]>=0.18.3->chromadb>=0.5.17->llama-index-vector-stores-chroma) (14.1)\n",
      "Requirement already satisfied: marshmallow<4.0.0,>=3.18.0 in /home/amd/anaconda3/lib/python3.12/site-packages (from dataclasses-json->llama-index-core<0.13.0,>=0.12.0->llama-index-vector-stores-chroma) (3.25.1)\n",
      "Requirement already satisfied: cachetools<6.0,>=2.0.0 in /home/amd/anaconda3/lib/python3.12/site-packages (from google-auth>=1.0.1->kubernetes>=28.1.0->chromadb>=0.5.17->llama-index-vector-stores-chroma) (5.3.3)\n",
      "Requirement already satisfied: pyasn1-modules>=0.2.1 in /home/amd/anaconda3/lib/python3.12/site-packages (from google-auth>=1.0.1->kubernetes>=28.1.0->chromadb>=0.5.17->llama-index-vector-stores-chroma) (0.2.8)\n",
      "Requirement already satisfied: rsa<5,>=3.1.4 in /home/amd/anaconda3/lib/python3.12/site-packages (from google-auth>=1.0.1->kubernetes>=28.1.0->chromadb>=0.5.17->llama-index-vector-stores-chroma) (4.9)\n",
      "Requirement already satisfied: filelock in /home/amd/anaconda3/lib/python3.12/site-packages (from huggingface-hub<1.0,>=0.16.4->tokenizers>=0.13.2->chromadb>=0.5.17->llama-index-vector-stores-chroma) (3.13.1)\n",
      "Requirement already satisfied: zipp>=0.5 in /home/amd/anaconda3/lib/python3.12/site-packages (from importlib-metadata<=8.5.0,>=6.0->opentelemetry-api>=1.2.0->chromadb>=0.5.17->llama-index-vector-stores-chroma) (3.17.0)\n",
      "Requirement already satisfied: mdurl~=0.1 in /home/amd/anaconda3/lib/python3.12/site-packages (from markdown-it-py>=2.2.0->rich>=10.11.0->chromadb>=0.5.17->llama-index-vector-stores-chroma) (0.1.0)\n",
      "Requirement already satisfied: humanfriendly>=9.1 in /home/amd/anaconda3/lib/python3.12/site-packages (from coloredlogs->onnxruntime>=1.14.1->chromadb>=0.5.17->llama-index-vector-stores-chroma) (10.0)\n",
      "Requirement already satisfied: mpmath<1.4,>=1.1.0 in /home/amd/anaconda3/lib/python3.12/site-packages (from sympy->onnxruntime>=1.14.1->chromadb>=0.5.17->llama-index-vector-stores-chroma) (1.3.0)\n",
      "Requirement already satisfied: pyasn1<0.5.0,>=0.4.6 in /home/amd/anaconda3/lib/python3.12/site-packages (from pyasn1-modules>=0.2.1->google-auth>=1.0.1->kubernetes>=28.1.0->chromadb>=0.5.17->llama-index-vector-stores-chroma) (0.4.8)\n",
      "Note: you may need to restart the kernel to use updated packages.\n",
      "Requirement already satisfied: chromadb in /home/amd/anaconda3/lib/python3.12/site-packages (0.6.2)\n",
      "Requirement already satisfied: build>=1.0.3 in /home/amd/anaconda3/lib/python3.12/site-packages (from chromadb) (1.2.2.post1)\n",
      "Requirement already satisfied: pydantic>=1.9 in /home/amd/anaconda3/lib/python3.12/site-packages (from chromadb) (2.10.5)\n",
      "Requirement already satisfied: chroma-hnswlib==0.7.6 in /home/amd/anaconda3/lib/python3.12/site-packages (from chromadb) (0.7.6)\n",
      "Requirement already satisfied: fastapi>=0.95.2 in /home/amd/anaconda3/lib/python3.12/site-packages (from chromadb) (0.115.6)\n",
      "Requirement already satisfied: uvicorn>=0.18.3 in /home/amd/anaconda3/lib/python3.12/site-packages (from uvicorn[standard]>=0.18.3->chromadb) (0.34.0)\n",
      "Requirement already satisfied: numpy>=1.22.5 in /home/amd/anaconda3/lib/python3.12/site-packages (from chromadb) (1.26.4)\n",
      "Requirement already satisfied: posthog>=2.4.0 in /home/amd/anaconda3/lib/python3.12/site-packages (from chromadb) (3.8.1)\n",
      "Requirement already satisfied: typing_extensions>=4.5.0 in /home/amd/anaconda3/lib/python3.12/site-packages (from chromadb) (4.12.2)\n",
      "Requirement already satisfied: onnxruntime>=1.14.1 in /home/amd/anaconda3/lib/python3.12/site-packages (from chromadb) (1.20.1)\n",
      "Requirement already satisfied: opentelemetry-api>=1.2.0 in /home/amd/anaconda3/lib/python3.12/site-packages (from chromadb) (1.29.0)\n",
      "Requirement already satisfied: opentelemetry-exporter-otlp-proto-grpc>=1.2.0 in /home/amd/anaconda3/lib/python3.12/site-packages (from chromadb) (1.29.0)\n",
      "Requirement already satisfied: opentelemetry-instrumentation-fastapi>=0.41b0 in /home/amd/anaconda3/lib/python3.12/site-packages (from chromadb) (0.50b0)\n",
      "Requirement already satisfied: opentelemetry-sdk>=1.2.0 in /home/amd/anaconda3/lib/python3.12/site-packages (from chromadb) (1.29.0)\n",
      "Requirement already satisfied: tokenizers>=0.13.2 in /home/amd/anaconda3/lib/python3.12/site-packages (from chromadb) (0.21.0)\n",
      "Requirement already satisfied: pypika>=0.48.9 in /home/amd/anaconda3/lib/python3.12/site-packages (from chromadb) (0.48.9)\n",
      "Requirement already satisfied: tqdm>=4.65.0 in /home/amd/anaconda3/lib/python3.12/site-packages (from chromadb) (4.66.5)\n",
      "Requirement already satisfied: overrides>=7.3.1 in /home/amd/anaconda3/lib/python3.12/site-packages (from chromadb) (7.4.0)\n",
      "Requirement already satisfied: importlib-resources in /home/amd/anaconda3/lib/python3.12/site-packages (from chromadb) (6.5.2)\n",
      "Requirement already satisfied: grpcio>=1.58.0 in /home/amd/anaconda3/lib/python3.12/site-packages (from chromadb) (1.69.0)\n",
      "Requirement already satisfied: bcrypt>=4.0.1 in /home/amd/anaconda3/lib/python3.12/site-packages (from chromadb) (4.2.1)\n",
      "Requirement already satisfied: typer>=0.9.0 in /home/amd/anaconda3/lib/python3.12/site-packages (from chromadb) (0.15.1)\n",
      "Requirement already satisfied: kubernetes>=28.1.0 in /home/amd/anaconda3/lib/python3.12/site-packages (from chromadb) (31.0.0)\n",
      "Requirement already satisfied: tenacity>=8.2.3 in /home/amd/anaconda3/lib/python3.12/site-packages (from chromadb) (8.2.3)\n",
      "Requirement already satisfied: PyYAML>=6.0.0 in /home/amd/anaconda3/lib/python3.12/site-packages (from chromadb) (6.0.1)\n",
      "Requirement already satisfied: mmh3>=4.0.1 in /home/amd/anaconda3/lib/python3.12/site-packages (from chromadb) (5.0.1)\n",
      "Requirement already satisfied: orjson>=3.9.12 in /home/amd/anaconda3/lib/python3.12/site-packages (from chromadb) (3.10.14)\n",
      "Requirement already satisfied: httpx>=0.27.0 in /home/amd/anaconda3/lib/python3.12/site-packages (from chromadb) (0.27.0)\n",
      "Requirement already satisfied: rich>=10.11.0 in /home/amd/anaconda3/lib/python3.12/site-packages (from chromadb) (13.7.1)\n",
      "Requirement already satisfied: packaging>=19.1 in /home/amd/anaconda3/lib/python3.12/site-packages (from build>=1.0.3->chromadb) (24.1)\n",
      "Requirement already satisfied: pyproject_hooks in /home/amd/anaconda3/lib/python3.12/site-packages (from build>=1.0.3->chromadb) (1.2.0)\n",
      "Requirement already satisfied: starlette<0.42.0,>=0.40.0 in /home/amd/anaconda3/lib/python3.12/site-packages (from fastapi>=0.95.2->chromadb) (0.41.3)\n",
      "Requirement already satisfied: anyio in /home/amd/anaconda3/lib/python3.12/site-packages (from httpx>=0.27.0->chromadb) (4.2.0)\n",
      "Requirement already satisfied: certifi in /home/amd/anaconda3/lib/python3.12/site-packages (from httpx>=0.27.0->chromadb) (2024.12.14)\n",
      "Requirement already satisfied: httpcore==1.* in /home/amd/anaconda3/lib/python3.12/site-packages (from httpx>=0.27.0->chromadb) (1.0.2)\n",
      "Requirement already satisfied: idna in /home/amd/anaconda3/lib/python3.12/site-packages (from httpx>=0.27.0->chromadb) (3.7)\n",
      "Requirement already satisfied: sniffio in /home/amd/anaconda3/lib/python3.12/site-packages (from httpx>=0.27.0->chromadb) (1.3.0)\n",
      "Requirement already satisfied: h11<0.15,>=0.13 in /home/amd/anaconda3/lib/python3.12/site-packages (from httpcore==1.*->httpx>=0.27.0->chromadb) (0.14.0)\n",
      "Requirement already satisfied: six>=1.9.0 in /home/amd/anaconda3/lib/python3.12/site-packages (from kubernetes>=28.1.0->chromadb) (1.16.0)\n",
      "Requirement already satisfied: python-dateutil>=2.5.3 in /home/amd/anaconda3/lib/python3.12/site-packages (from kubernetes>=28.1.0->chromadb) (2.9.0.post0)\n",
      "Requirement already satisfied: google-auth>=1.0.1 in /home/amd/anaconda3/lib/python3.12/site-packages (from kubernetes>=28.1.0->chromadb) (2.37.0)\n",
      "Requirement already satisfied: websocket-client!=0.40.0,!=0.41.*,!=0.42.*,>=0.32.0 in /home/amd/anaconda3/lib/python3.12/site-packages (from kubernetes>=28.1.0->chromadb) (1.8.0)\n",
      "Requirement already satisfied: requests in /home/amd/anaconda3/lib/python3.12/site-packages (from kubernetes>=28.1.0->chromadb) (2.32.3)\n",
      "Requirement already satisfied: requests-oauthlib in /home/amd/anaconda3/lib/python3.12/site-packages (from kubernetes>=28.1.0->chromadb) (2.0.0)\n",
      "Requirement already satisfied: oauthlib>=3.2.2 in /home/amd/anaconda3/lib/python3.12/site-packages (from kubernetes>=28.1.0->chromadb) (3.2.2)\n",
      "Requirement already satisfied: urllib3>=1.24.2 in /home/amd/anaconda3/lib/python3.12/site-packages (from kubernetes>=28.1.0->chromadb) (2.2.3)\n",
      "Requirement already satisfied: durationpy>=0.7 in /home/amd/anaconda3/lib/python3.12/site-packages (from kubernetes>=28.1.0->chromadb) (0.9)\n",
      "Requirement already satisfied: coloredlogs in /home/amd/anaconda3/lib/python3.12/site-packages (from onnxruntime>=1.14.1->chromadb) (15.0.1)\n",
      "Requirement already satisfied: flatbuffers in /home/amd/anaconda3/lib/python3.12/site-packages (from onnxruntime>=1.14.1->chromadb) (24.12.23)\n",
      "Requirement already satisfied: protobuf in /home/amd/anaconda3/lib/python3.12/site-packages (from onnxruntime>=1.14.1->chromadb) (5.29.3)\n",
      "Requirement already satisfied: sympy in /home/amd/anaconda3/lib/python3.12/site-packages (from onnxruntime>=1.14.1->chromadb) (1.13.1)\n",
      "Requirement already satisfied: deprecated>=1.2.6 in /home/amd/anaconda3/lib/python3.12/site-packages (from opentelemetry-api>=1.2.0->chromadb) (1.2.15)\n",
      "Requirement already satisfied: importlib-metadata<=8.5.0,>=6.0 in /home/amd/anaconda3/lib/python3.12/site-packages (from opentelemetry-api>=1.2.0->chromadb) (7.0.1)\n",
      "Requirement already satisfied: googleapis-common-protos~=1.52 in /home/amd/anaconda3/lib/python3.12/site-packages (from opentelemetry-exporter-otlp-proto-grpc>=1.2.0->chromadb) (1.66.0)\n",
      "Requirement already satisfied: opentelemetry-exporter-otlp-proto-common==1.29.0 in /home/amd/anaconda3/lib/python3.12/site-packages (from opentelemetry-exporter-otlp-proto-grpc>=1.2.0->chromadb) (1.29.0)\n",
      "Requirement already satisfied: opentelemetry-proto==1.29.0 in /home/amd/anaconda3/lib/python3.12/site-packages (from opentelemetry-exporter-otlp-proto-grpc>=1.2.0->chromadb) (1.29.0)\n",
      "Requirement already satisfied: opentelemetry-instrumentation-asgi==0.50b0 in /home/amd/anaconda3/lib/python3.12/site-packages (from opentelemetry-instrumentation-fastapi>=0.41b0->chromadb) (0.50b0)\n",
      "Requirement already satisfied: opentelemetry-instrumentation==0.50b0 in /home/amd/anaconda3/lib/python3.12/site-packages (from opentelemetry-instrumentation-fastapi>=0.41b0->chromadb) (0.50b0)\n",
      "Requirement already satisfied: opentelemetry-semantic-conventions==0.50b0 in /home/amd/anaconda3/lib/python3.12/site-packages (from opentelemetry-instrumentation-fastapi>=0.41b0->chromadb) (0.50b0)\n",
      "Requirement already satisfied: opentelemetry-util-http==0.50b0 in /home/amd/anaconda3/lib/python3.12/site-packages (from opentelemetry-instrumentation-fastapi>=0.41b0->chromadb) (0.50b0)\n",
      "Requirement already satisfied: wrapt<2.0.0,>=1.0.0 in /home/amd/anaconda3/lib/python3.12/site-packages (from opentelemetry-instrumentation==0.50b0->opentelemetry-instrumentation-fastapi>=0.41b0->chromadb) (1.14.1)\n",
      "Requirement already satisfied: asgiref~=3.0 in /home/amd/anaconda3/lib/python3.12/site-packages (from opentelemetry-instrumentation-asgi==0.50b0->opentelemetry-instrumentation-fastapi>=0.41b0->chromadb) (3.8.1)\n",
      "Requirement already satisfied: monotonic>=1.5 in /home/amd/anaconda3/lib/python3.12/site-packages (from posthog>=2.4.0->chromadb) (1.6)\n",
      "Requirement already satisfied: backoff>=1.10.0 in /home/amd/anaconda3/lib/python3.12/site-packages (from posthog>=2.4.0->chromadb) (2.2.1)\n",
      "Requirement already satisfied: annotated-types>=0.6.0 in /home/amd/anaconda3/lib/python3.12/site-packages (from pydantic>=1.9->chromadb) (0.6.0)\n",
      "Requirement already satisfied: pydantic-core==2.27.2 in /home/amd/anaconda3/lib/python3.12/site-packages (from pydantic>=1.9->chromadb) (2.27.2)\n",
      "Requirement already satisfied: markdown-it-py>=2.2.0 in /home/amd/anaconda3/lib/python3.12/site-packages (from rich>=10.11.0->chromadb) (2.2.0)\n",
      "Requirement already satisfied: pygments<3.0.0,>=2.13.0 in /home/amd/anaconda3/lib/python3.12/site-packages (from rich>=10.11.0->chromadb) (2.15.1)\n",
      "Requirement already satisfied: huggingface-hub<1.0,>=0.16.4 in /home/amd/anaconda3/lib/python3.12/site-packages (from tokenizers>=0.13.2->chromadb) (0.27.1)\n",
      "Requirement already satisfied: click>=8.0.0 in /home/amd/anaconda3/lib/python3.12/site-packages (from typer>=0.9.0->chromadb) (8.1.7)\n",
      "Requirement already satisfied: shellingham>=1.3.0 in /home/amd/anaconda3/lib/python3.12/site-packages (from typer>=0.9.0->chromadb) (1.5.4)\n",
      "Requirement already satisfied: httptools>=0.6.3 in /home/amd/anaconda3/lib/python3.12/site-packages (from uvicorn[standard]>=0.18.3->chromadb) (0.6.4)\n",
      "Requirement already satisfied: python-dotenv>=0.13 in /home/amd/anaconda3/lib/python3.12/site-packages (from uvicorn[standard]>=0.18.3->chromadb) (0.21.0)\n",
      "Requirement already satisfied: uvloop!=0.15.0,!=0.15.1,>=0.14.0 in /home/amd/anaconda3/lib/python3.12/site-packages (from uvicorn[standard]>=0.18.3->chromadb) (0.21.0)\n",
      "Requirement already satisfied: watchfiles>=0.13 in /home/amd/anaconda3/lib/python3.12/site-packages (from uvicorn[standard]>=0.18.3->chromadb) (1.0.4)\n",
      "Requirement already satisfied: websockets>=10.4 in /home/amd/anaconda3/lib/python3.12/site-packages (from uvicorn[standard]>=0.18.3->chromadb) (14.1)\n",
      "Requirement already satisfied: cachetools<6.0,>=2.0.0 in /home/amd/anaconda3/lib/python3.12/site-packages (from google-auth>=1.0.1->kubernetes>=28.1.0->chromadb) (5.3.3)\n",
      "Requirement already satisfied: pyasn1-modules>=0.2.1 in /home/amd/anaconda3/lib/python3.12/site-packages (from google-auth>=1.0.1->kubernetes>=28.1.0->chromadb) (0.2.8)\n",
      "Requirement already satisfied: rsa<5,>=3.1.4 in /home/amd/anaconda3/lib/python3.12/site-packages (from google-auth>=1.0.1->kubernetes>=28.1.0->chromadb) (4.9)\n",
      "Requirement already satisfied: filelock in /home/amd/anaconda3/lib/python3.12/site-packages (from huggingface-hub<1.0,>=0.16.4->tokenizers>=0.13.2->chromadb) (3.13.1)\n",
      "Requirement already satisfied: fsspec>=2023.5.0 in /home/amd/anaconda3/lib/python3.12/site-packages (from huggingface-hub<1.0,>=0.16.4->tokenizers>=0.13.2->chromadb) (2024.6.1)\n",
      "Requirement already satisfied: zipp>=0.5 in /home/amd/anaconda3/lib/python3.12/site-packages (from importlib-metadata<=8.5.0,>=6.0->opentelemetry-api>=1.2.0->chromadb) (3.17.0)\n",
      "Requirement already satisfied: mdurl~=0.1 in /home/amd/anaconda3/lib/python3.12/site-packages (from markdown-it-py>=2.2.0->rich>=10.11.0->chromadb) (0.1.0)\n",
      "Requirement already satisfied: charset-normalizer<4,>=2 in /home/amd/anaconda3/lib/python3.12/site-packages (from requests->kubernetes>=28.1.0->chromadb) (3.3.2)\n",
      "Requirement already satisfied: humanfriendly>=9.1 in /home/amd/anaconda3/lib/python3.12/site-packages (from coloredlogs->onnxruntime>=1.14.1->chromadb) (10.0)\n",
      "Requirement already satisfied: mpmath<1.4,>=1.1.0 in /home/amd/anaconda3/lib/python3.12/site-packages (from sympy->onnxruntime>=1.14.1->chromadb) (1.3.0)\n",
      "Requirement already satisfied: pyasn1<0.5.0,>=0.4.6 in /home/amd/anaconda3/lib/python3.12/site-packages (from pyasn1-modules>=0.2.1->google-auth>=1.0.1->kubernetes>=28.1.0->chromadb) (0.4.8)\n",
      "Note: you may need to restart the kernel to use updated packages.\n"
     ]
    }
   ],
   "source": [
    "%pip install llama-index\n",
    "%pip install llama-index-llms-ollama\n",
    "%pip install llama-index-embeddings-ollama\n",
    "%pip install llama-index-vector-stores-chroma\n",
    "%pip install chromadb"
   ]
  },
  {
   "cell_type": "code",
   "execution_count": 9,
   "id": "f6aed23c-a92c-4482-bab1-d467f15c148a",
   "metadata": {},
   "outputs": [
    {
     "name": "stdout",
     "output_type": "stream",
     "text": [
      "llama-index                              0.12.10\n",
      "llama-index-agent-openai                 0.4.1\n",
      "llama-index-cli                          0.4.0\n",
      "llama-index-core                         0.12.10.post1\n",
      "llama-index-embeddings-ollama            0.5.0\n",
      "llama-index-embeddings-openai            0.3.1\n",
      "llama-index-indices-managed-llama-cloud  0.6.3\n",
      "llama-index-llms-ollama                  0.5.0\n",
      "llama-index-llms-openai                  0.3.13\n",
      "llama-index-multi-modal-llms-openai      0.4.2\n",
      "llama-index-program-openai               0.3.1\n",
      "llama-index-question-gen-openai          0.3.0\n",
      "llama-index-readers-file                 0.4.3\n",
      "llama-index-readers-llama-parse          0.4.0\n",
      "llama-index-readers-web                  0.3.3\n",
      "llama-index-vector-stores-chroma         0.4.1\n"
     ]
    }
   ],
   "source": [
    "!pip list | grep llama-index"
   ]
  },
  {
   "cell_type": "code",
   "execution_count": 10,
   "id": "5e99b042-d0d5-4809-bc52-a5a3b0b1da21",
   "metadata": {
    "scrolled": true
   },
   "outputs": [],
   "source": [
    "import chromadb\n",
    "from llama_index.core import VectorStoreIndex, SimpleDirectoryReader, Settings\n",
    "from llama_index.core.node_parser import SentenceSplitter\n",
    "from llama_index.core import StorageContext\n",
    "from llama_index.vector_stores.chroma import ChromaVectorStore\n",
    "from llama_index.embeddings.ollama import OllamaEmbedding\n",
    "from llama_index.llms.ollama import Ollama"
   ]
  },
  {
   "cell_type": "markdown",
   "id": "aaa14454-f5cc-4b84-b979-6337a8622678",
   "metadata": {},
   "source": [
    "LlamaIndex implement the Ollama client interface to interact with Ollama service. Here we request the embedding and LLM service both from Ollama."
   ]
  },
  {
   "cell_type": "code",
   "execution_count": 11,
   "id": "1931a4cc-4f0d-42fd-a7b8-68227a9f91fb",
   "metadata": {},
   "outputs": [],
   "source": [
    "# Set embedding model\n",
    "emb_fn=\"nomic-embed-text\"\n",
    "Settings.embed_model = OllamaEmbedding(model_name=emb_fn)\n",
    "\n",
    "# Set ollama model\n",
    "Settings.llm = Ollama(model=\"llama3.1:8b\", request_timeout=120.0)"
   ]
  },
  {
   "cell_type": "markdown",
   "id": "fbe9b9d8-186e-4027-a87f-8fb5ece1c6d1",
   "metadata": {},
   "source": [
    "Here we use the AMD Radeon ROCm usage documentaion pdf file as the RAG index source. Download this pdf file from \"https://rocm.docs.amd.com/_/downloads/radeon/en/latest/pdf/\" and save it in the ./data direcotry."
   ]
  },
  {
   "cell_type": "raw",
   "id": "5c9dc649-b2d4-43ab-90e9-486d76b6ffaa",
   "metadata": {},
   "source": [
    "!mkdir ./data && cd ./data && wget --recursive --level=1 --content-disposition --accept=pdf -np -nH --cut-dirs=6 https://rocm.docs.amd.com/_/downloads/radeon/en/latest/pdf/ && cd .."
   ]
  },
  {
   "cell_type": "markdown",
   "id": "3ae962fa-ba30-47ea-95e6-443c81874641",
   "metadata": {},
   "source": [
    "The SimpleDirectoryReader is the most commonly used data connector that just works.\n",
    "Simply pass in a input directory or a list of files.\n",
    "It will select the best file reader based on the file extensions."
   ]
  },
  {
   "cell_type": "code",
   "execution_count": 12,
   "id": "b5e0a9e5-b50d-4675-9419-b22ed11ee99f",
   "metadata": {},
   "outputs": [],
   "source": [
    "documents = SimpleDirectoryReader(input_dir=\"./data/\").load_data()"
   ]
  },
  {
   "cell_type": "code",
   "execution_count": 13,
   "id": "263515e8-6295-488b-ac2e-0606e143c186",
   "metadata": {
    "scrolled": true
   },
   "outputs": [
    {
     "name": "stdout",
     "output_type": "stream",
     "text": [
      "Doc ID: 7277da52-3909-4eec-9479-8ce40262f898\n",
      "Text: CHAPTER TWO HOW TO GUIDES These guides walk you through the\n",
      "various installation processes required to pair ROCm™ with the latest\n",
      "high-end AMD Radeon™ 7000 series desktop GPUs. Linux WSL Linux How to\n",
      "guide WSL How to guide 2.1 Linux How to guide - Use ROCm on Radeon\n",
      "GPUs This guide walks you through the various installation processes\n",
      "required to...\n"
     ]
    }
   ],
   "source": [
    "# Check the content\n",
    "print(documents[10])"
   ]
  },
  {
   "cell_type": "markdown",
   "id": "c08adb51-a555-4b3d-80f1-a477cdfbefbf",
   "metadata": {},
   "source": [
    "Chroma is a AI-native open-source vector database focused on developer productivity and happiness which also be well integrated in LlamaIndex. We use it to create the vector dataset by sourcing the pdf file. "
   ]
  },
  {
   "cell_type": "code",
   "execution_count": 14,
   "id": "741d2124-3812-4ba4-bc80-67411bf33d45",
   "metadata": {
    "scrolled": true
   },
   "outputs": [],
   "source": [
    "# Initialize client and save data\n",
    "db = chromadb.PersistentClient(path=\"./chroma_db/rocm_db\")\n",
    "# create collection\n",
    "chroma_collection = db.get_or_create_collection(\"rocm_db\")\n",
    "\n",
    "# assign chroma as the vector_store to the context\n",
    "vector_store = ChromaVectorStore(chroma_collection=chroma_collection)\n",
    "storage_context = StorageContext.from_defaults(vector_store=vector_store)"
   ]
  },
  {
   "cell_type": "code",
   "execution_count": 15,
   "id": "f46bb50a-a21b-4078-a540-43c714567014",
   "metadata": {},
   "outputs": [],
   "source": [
    "# Build vector index per-document\n",
    "vector_index = VectorStoreIndex.from_documents(\n",
    "    documents,\n",
    "    storage_context=storage_context,\n",
    "    transformations=[SentenceSplitter(chunk_size=512, chunk_overlap=20)],\n",
    ")"
   ]
  },
  {
   "cell_type": "markdown",
   "id": "ab337a76-3799-4b6d-8fb8-f833bb85cb37",
   "metadata": {},
   "source": [
    "Next to create the querry engine with response mode. You can use the response mode according to your purpose. Here is the details https://docs.llamaindex.ai/en/v0.10.19/module_guides/deploying/query_engine/response_modes.html"
   ]
  },
  {
   "cell_type": "code",
   "execution_count": 16,
   "id": "8130646a-d736-4a49-8905-ed943f7fc07d",
   "metadata": {},
   "outputs": [],
   "source": [
    "# Query your data\n",
    "query_engine = vector_index.as_query_engine(response_mode=\"refine\", similarity_top_k=10)"
   ]
  },
  {
   "cell_type": "markdown",
   "id": "4cda38be-f9d8-40dc-af6c-c1905ccee060",
   "metadata": {},
   "source": [
    "Define the prompt according the task what you want from the RAG pipeline."
   ]
  },
  {
   "cell_type": "code",
   "execution_count": 17,
   "id": "dc952e78-acc1-4434-ad96-9084bcc4cf1d",
   "metadata": {},
   "outputs": [],
   "source": [
    "# Updating Prompt for Q&A\n",
    "from llama_index.core import PromptTemplate\n",
    "\n",
    "template = (\n",
    "    \"You are proudct expert of car and very faimilay with car user manual and provide guide to the end user.\\n\"\n",
    "    \"---------------------\\n\"\n",
    "    \"{context_str}\\n\"\n",
    "    \"---------------------\\n\"\n",
    "    \"Given the information from multiple sources and not prior knowledge\\n\"\n",
    "    \"answer the question according to the index dataset.\\n\"\n",
    "    \"if the question is not releate with ROCm and Radeon GPU, just say it is not releated with my knowledge base.\\n\"\n",
    "    \"if you don't know the answer, just say that I don't know.\\n\"\n",
    "    \"Answers need to be precise and concise.\\n\"\n",
    "    \"if the question is in chinese, please transclate chinese to english in advance\"\n",
    "    \"Query: {query_str}\\n\"\n",
    "    \"Answer: \"\n",
    ")\n",
    "qa_template = PromptTemplate(template)\n",
    "query_engine.update_prompts(\n",
    "    {\"response_synthesizer:text_qa_template\": qa_template}\n",
    ")\n",
    "\n",
    "template = (\n",
    "    \"The original query is as follows: {query_str}.\\n\"\n",
    "    \"We have provided an existing answer: {existing_answer}.\\n\"\n",
    "    \"We have the opportunity to refine the existing answer (only if needed) with some more context below.\\n\"\n",
    "    \"-------------\\n\"\n",
    "    \"{context_msg}\\n\"\n",
    "    \"-------------\\n\"\n",
    "    \"Given the new context, refine the original answer to better answer the query. If the context isn't useful, return the original answer.\\n\"\n",
    "    \"if the question is 'who are you' , just say I am expert of AMD ROCm.\\n\"\n",
    "    \"Answers need to be precise and concise.\\n\"\n",
    "    \"Refined Answer: \"\n",
    ")\n",
    "\n",
    "qa_template = PromptTemplate(template)\n",
    "\n",
    "query_engine.update_prompts(\n",
    "    {\"response_synthesizer:refine_template\": qa_template}\n",
    ")"
   ]
  },
  {
   "cell_type": "code",
   "execution_count": 18,
   "id": "0453dbca-e301-488e-ac55-22cc0548eba8",
   "metadata": {},
   "outputs": [
    {
     "name": "stdout",
     "output_type": "stream",
     "text": [
      "Based on the provided context, here is a refined version of the original answer:\n",
      "\n",
      "To install ROCm, follow these brief steps:\n",
      "\n",
      "1. Run `amdgpu-install` script.\n",
      "2. Specify the use case (Graphics or Workstation).\n",
      "3. Choose the combination of components (Pro stack, user selection).\n",
      "\n",
      "These steps guide you through installing the ROCm Software Stack and other Radeon software for Linux components on your system.\n",
      "\n",
      "For a complete installation experience, refer to Option A: Install from pre-built binaries in the provided documentation.\n",
      "Additionally, note that for advanced customization use cases or specific component installations, consider using pip3 install commands (e.g., `pip3 install /onnxruntime/build/Linux/Release/dist/*.whl`) as needed.\n",
      "\n",
      "Note: The refined answer includes a mention of additional steps and context from the provided manual to provide a more comprehensive experience.\n"
     ]
    }
   ],
   "source": [
    "response = query_engine.query(\"brief the steps to install the ROCm?\")\n",
    "print(response)"
   ]
  },
  {
   "cell_type": "code",
   "execution_count": 19,
   "id": "d328c8fa-5430-4630-a783-70fd1f428a6d",
   "metadata": {
    "scrolled": true
   },
   "outputs": [
    {
     "name": "stdout",
     "output_type": "stream",
     "text": [
      "The chapter about installing PyTorch using Docker (including instructions for checking GPU availability and displaying component information) is under \"How to guides\" (Chapter 2) in the section \"Option B: Docker installation\".\n"
     ]
    }
   ],
   "source": [
    "response = query_engine.query(\"Which chapter is about installing PyTorch?\")\n",
    "print(response)"
   ]
  },
  {
   "cell_type": "code",
   "execution_count": 20,
   "id": "86e04428-0aaf-438b-8776-88319b329fe5",
   "metadata": {},
   "outputs": [
    {
     "name": "stdout",
     "output_type": "stream",
     "text": [
      "Here's a refined version of the existing answer with more context:\n",
      "\n",
      "To verify PyTorch installation on an AMD Radeon GPU setup using ROCm, follow these steps:\n",
      "\n",
      "1. Run `python3 -c 'import torch' 2> /dev/null && echo 'Success' || echo 'Failure'` in the terminal.\n",
      "\t* This command checks if PyTorch is installed and can detect a GPU compute device.\n",
      "\t* If successful, it should print \"Success\". Otherwise, it will print \"Failure\".\n",
      "2. To test if the GPU is available, run `nvidia-smi` or `rocm-smi` (for ROCm setup) in the terminal.\n",
      "\t* This command checks if the Radeon GPU is recognized by the system and is ready for use.\n",
      "\n",
      "Additionally, to verify Torch-MIGraphX installation:\n",
      "\n",
      "1. Run `python3 -c 'import torch_migraphx' 2> /dev/null && echo 'Success' || echo 'Failure'` in the terminal.\n",
      "\t* This command checks if Torch-MIGraphX can be imported as a Python module.\n",
      "\t* If successful, it should print \"Success\". Otherwise, it will print \"Failure\".\n",
      "2. Run `pytest ./torch_migraphx/tests` to run unit tests.\n",
      "\n",
      "Note: The commands provided assume a WSL (Windows Subsystem for Linux) environment with ROCm installed.\n"
     ]
    }
   ],
   "source": [
    "response = query_engine.query(\"How to verify PyTorch Installation?\")\n",
    "print(response)"
   ]
  },
  {
   "cell_type": "code",
   "execution_count": 21,
   "id": "3f78e2bc-6d40-4ef0-b036-91d8c17e3571",
   "metadata": {},
   "outputs": [
    {
     "name": "stdout",
     "output_type": "stream",
     "text": [
      "Yes, with ROCm and ONNX Runtime installed on a Radeon GPU, you can run ONNX models. However, note that according to the ROCm documentation (Chapter 5, Section 5.1), there are known issues with running ONNX RT EP on some models (e.g., Llama2-7B) which may fall back to CPU execution.\n"
     ]
    }
   ],
   "source": [
    "response = query_engine.query(\"Could run ONNX on Radeon GPU?\")\n",
    "print(response)"
   ]
  },
  {
   "cell_type": "code",
   "execution_count": null,
   "id": "ac2312ce-71d6-402d-8a44-ce326424283f",
   "metadata": {},
   "outputs": [],
   "source": []
  }
 ],
 "metadata": {
  "kernelspec": {
   "display_name": "Python 3 (ipykernel)",
   "language": "python",
   "name": "python3"
  },
  "language_info": {
   "codemirror_mode": {
    "name": "ipython",
    "version": 3
   },
   "file_extension": ".py",
   "mimetype": "text/x-python",
   "name": "python",
   "nbconvert_exporter": "python",
   "pygments_lexer": "ipython3",
   "version": "3.12.7"
  }
 },
 "nbformat": 4,
 "nbformat_minor": 5
}
